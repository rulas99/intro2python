{
 "cells": [
  {
   "cell_type": "raw",
   "metadata": {},
   "source": [
    "Bienvenidos al curso de Python Básico APLICADO\n",
    "\n",
    "Objetivo: Tener un primer acercamiento al lenguaje y a sus librerías más populares para procesamiento de datos y brindar los conocimientos mínimos para el curso de procesamiento de datos ráster y vectoriales en Python.\n",
    "\n",
    "1. Introducción al entorno de JupyterLab\n",
    "2. Introducción al lenguaje: Tipos de datos, indexación y concatenación\n",
    "3. Bucles y condicionales: Ciclos For, Where e If/Else, listas de comprensión\n",
    "4. Funciones\n",
    "5. Numpy: Construcción de arreglos y algunos métodos\n",
    "6. Pandas: Series, elaboración de DataFrames, consultas y algunos métodos\n",
    "7. Matplotlib: Gráficas de barras, dispersión, lineales, histogramas e interactivas"
   ]
  },
  {
   "cell_type": "markdown",
   "metadata": {},
   "source": [
    "[Material Extra](https://drive.google.com/drive/folders/1Lqmn8VqlcyAxRfVeTnLJRXf0jiBuhUn7?usp=sharing)"
   ]
  },
  {
   "cell_type": "markdown",
   "metadata": {},
   "source": [
    "# Markdown"
   ]
  },
  {
   "cell_type": "markdown",
   "metadata": {},
   "source": [
    "### Comenzemos:"
   ]
  },
  {
   "cell_type": "markdown",
   "metadata": {},
   "source": [
    "El Markdown sirve para comentar y chulear nuestros scripts (notebooks)"
   ]
  },
  {
   "cell_type": "markdown",
   "metadata": {},
   "source": [
    "#### Comandos básicos:\n",
    "* ctrl+shift -> ejecuta celda\n",
    "* esc+a -> crea celda arriba\n",
    "* esc+b -> crea celda abajo\n",
    "* esc + dd -> elimina celda"
   ]
  },
  {
   "cell_type": "markdown",
   "metadata": {},
   "source": [
    "Ahora supongamos que estamos escribiendo algo y lo quiero enfatizar con __negritas__ o con *italica* "
   ]
  },
  {
   "cell_type": "markdown",
   "metadata": {},
   "source": [
    "# $\\LaTeX$ "
   ]
  },
  {
   "cell_type": "markdown",
   "metadata": {},
   "source": [
    "<center>$Resumen$<center>\n",
    "___________________________________________________________________________________________________________________________________________________________\n",
    "\n",
    "En este notebook se muestran las funciones básicas del Markdowon. En la primera sección se enseña como escribir títulos y subtítulos. Posteriormente, aprenderemos a enlistar y enfatizar texto. Finalmente, aprenderemos a utilizar código $\\LaTeX$, a poner imágenes e insertar hipervínculos en los notebooks.   \n",
    "______________________________________________________________________________________________________________________________________________________"
   ]
  },
  {
   "cell_type": "markdown",
   "metadata": {},
   "source": [
    "Para hacer una proyección de __Bonne__ se necesitan las siguientes ecuaciones:\n",
    "\n",
    "<center>$x=\\rho\\sin{E}$<center>\n",
    "<center>$y=R\\cot{\\phi_0}-\\rho\\cos{E}$<center>\n",
    "\n",
    "$Donde:$\n",
    "\n",
    "<center>$\\rho=R\\left(\\cot{\\phi_0}+\\phi_0-\\phi\\right)$<center>\n",
    "    \n",
    "    \n",
    "<center>$E=\\frac{R(\\lambda-\\lambda_0)(\\cos{\\phi})}{\\rho}$<center>\n",
    "    \n",
    "Con $R=6371km$"
   ]
  },
  {
   "cell_type": "markdown",
   "metadata": {},
   "source": [
    "#### Para insertar imágenes utilizaremos códgio *HTML*\n",
    "\n",
    "\n",
    "<img src=\"im1.jpg\" style=\"width: 300px;\"/>"
   ]
  },
  {
   "cell_type": "markdown",
   "metadata": {},
   "source": [
    "### Finalmente, insertaremos un hipervínculo:\n",
    "\n",
    "Este curso es patrocinado por la Sociedad de Alumnos de Ingeniería Geomática ([SAIG](https://www.facebook.com/SAIGFI/))"
   ]
  },
  {
   "cell_type": "markdown",
   "metadata": {},
   "source": [
    "### $\\star\\star\\star\\star\\star\\star\\star\\star\\star\\star\\star\\star\\star\\star\\star\\star\\star\\star\\star\\star\\star\\star\\star\\star\\star\\star\\star\\star$\n",
    "# PYTHON"
   ]
  },
  {
   "cell_type": "markdown",
   "metadata": {},
   "source": [
    "[Python](https://es.wikipedia.org/wiki/Python) es un lenguaje de programación interpretado cuya filosofía hace hincapié en la legibilidad de su código.\n",
    "Se trata de un lenguaje de programación __multiparadigma__, ya que soporta orientación a objetos, programación imperativa y, en menor medida, programación funcional. Es un lenguaje __interpretado__ (los intérpretes sólo realizan la traducción a medida que sea necesaria, típicamente, instrucción por instrucción, y normalmente no guardan el resultado de dicha traducción), __dinámico__ (un lenguaje de programación es dinámicamente tipado si una variable puede tomar valores de distinto tipo) y __multiplataforma__ (por ejemplo, una aplicación multiplataforma puede ejecutarse sin problema alguno, tanto en Microsoft Windows, como en Linux y Mac OS X).\n",
    "\n",
    "Python fue creado a finales de los ochenta por Guido van Rossum en el Centro para las Matemáticas y la Informática (CWI, Centrum Wiskunde & Informatica), en los Países Bajos."
   ]
  },
  {
   "cell_type": "markdown",
   "metadata": {},
   "source": [
    "## Python, el lenguaje más popular\n",
    "\n",
    "El índice [TIOBE (TIOBE, The Importance of Being Earnest)](https://www.tiobe.com/tiobe-index/) es un informe mensual que elabora y publica la empresa TIOBE Software BV. \n",
    "\n",
    "TIOBE Software BV es una empresa afincada en Eindhoven (Holanda) que se ha encargado de desarrollar y mejorar desde el año 2001 un algoritmo basado en la ejecución de infinidad de queries en los mayores motores de búsqueda del mundo (Google, MSN, Yahoo!, Baidu, Wikipedia o YouTube, entre otros). Con los resultados obtenidos, su algoritmo es capaz de cuantificar el uso en el mundo de los distintos lenguajes de programación. Es necesario resaltar que, en ningún caso, esta clasificación se basa en la calidad de uso de unos u otros lenguajes, simplemente cuantifica su uso y los clasifica de más a menos utilizados.\n",
    "\n",
    "\"TIOBE will announce the programming language of the year next month. There are 4 candidates for this title: Java (+1.3%), C (+1.8%), Python (+1.9%) and C# (+1.4%). These 4 languages are all in the top 5. Only C++ lost some ranking points in 2019. __Python is top favorite for the title. It was already programming language of the year 2018, but its popularity keeps growing.__ This is mainly due to the lack of programmers in the world and the ease of learning this language if compared to other languages. [...] \n",
    "\n",
    "The TIOBE Programming Community index is an indicator of the popularity of programming languages. The index is updated once a month. The ratings are based on the number of skilled engineers world-wide, courses and third party vendors. Popular search engines such as Google, Bing, Yahoo!, Wikipedia, Amazon, YouTube and Baidu are used to calculate the ratings. It is important to note that the TIOBE index is not about the best programming language or the language in which most lines of code have been written.\"\n",
    "\n",
    "<img src=\"tab2.png\" style=\"width: 600px;\"/>"
   ]
  },
  {
   "cell_type": "markdown",
   "metadata": {},
   "source": [
    "# Ahora sí, a programar!"
   ]
  },
  {
   "cell_type": "markdown",
   "metadata": {},
   "source": [
    "## Librerías\n",
    "\n",
    "### Tridente la muerte:\n",
    "* [Pandas](https://pandas.pydata.org): Is an open source, BSD-licensed library providing high-performance, easy-to-use data structures and data analysis tools for the Python programming language.\n",
    "\n",
    "* [Numpy](https://numpy.org): NumPy is the fundamental package for scientific computing with Python. It contains among other things: a powerful N-dimensional array object, sophisticated (broadcasting) functions, tools for integrating C/C++ and Fortran code, useful linear algebra, Fourier transform, and random number capabilities. Besides its obvious scientific uses, NumPy can also be used as an efficient multi-dimensional container of generic data. Arbitrary data-types can be defined. This allows NumPy to seamlessly and speedily integrate with a wide variety of databases.\n",
    "\n",
    "* [Matplotlib](https://matplotlib.org):  Is a plotting library which produces publication quality figures in a variety of hardcopy formats and interactive environments across platforms. Matplotlib tries to make easy things easy and hard things possible. You can generate plots, histograms, power spectra, bar charts, errorcharts, scatterplots, etc., with just a few lines of code. For simple plotting the pyplot module provides a MATLAB-like interface, particularly when combined with IPython. For the power user, you have full control of line styles, font properties, axes properties, etc, via an object oriented interface or via a set of functions familiar to MATLAB users.\n",
    "\n",
    "### Otros Módulos:\n",
    "\n",
    "* [Math](https://docs.python.org/3/library/math.html): This module provides access to the mathematical functions defined by the C standard. These functions cannot be used with complex numbers; use the functions of the same name from the cmath module if you require support for complex numbers.\n",
    "\n",
    "* [Numba](http://numba.pydata.org): Numba translates Python functions to optimized machine code at runtime using the industry-standard [LLVM](https://es.wikipedia.org/wiki/LLVM) compiler library. Numba-compiled numerical algorithms in Python can approach the speeds of C or FORTRAN.\n",
    "\n",
    "* [Os](https://docs.python.org/3/library/os.html): This module provides a portable way of using operating system dependent functionality.\n",
    "\n",
    "* [Datetime](https://docs.python.org/3/library/datetime.html): The datetime module supplies classes for manipulating dates and times.\n",
    "\n",
    "* [Virtualenv](https://virtualenv.pypa.io/en/latest/): is a tool to create isolated Python environments.\n",
    "\n",
    "* [GeoPy](https://geopy.readthedocs.io/en/stable/#): GeoPy makes it easy for Python developers to locate the coordinates of addresses, cities, countries, and landmarks across the globe using third-party geocoders and other data sources\n",
    "\n",
    "* [Scikit-learn](https://scikit-learn.org/stable/): Is a free software machine learning module. It features various classification, regression and clustering algorithms including support vector machines, random forests, gradient boosting, k-means and DBSCAN, and is designed to interoperate with the Python numerical and scientific libraries NumPy, SciPy and Matplotlib.\n",
    "\n",
    "* [GetPass](https://www.geeksforgeeks.org/getpass-and-getuser-in-python-password-without-echo/): getpass() prompts the user for a password without echoing. The getpass module provides a secure way to handle the password prompts where programs interact with the users via the terminal.\n",
    "\n",
    "* [smtplib](https://docs.python.org/3/library/smtplib.html): The smtplib module defines an SMTP client session object that can be used to send mail to any Internet machine with an SMTP or ESMTP listener daemon.\n",
    "\n",
    "* [imblearn](https://imbalanced-learn.readthedocs.io/en/stable/api.html#): Imbalanced-learn is a python package offering a number of re-sampling techniques commonly used in datasets showing strong between-class imbalance. It is compatible with scikit-learn and is part of scikit-learn-contrib projects.\n",
    "\n",
    "* [GeoPandas](http://geopandas.org): The goal of GeoPandas is to make working with geospatial data in python easier. It combines the capabilities of pandas and shapely, providing geospatial operations in pandas and a high-level interface to multiple geometries to shapely. GeoPandas enables you to easily do operations in python that would otherwise require a spatial database such as PostGIS.\n",
    "\n",
    "* [CartoPy](https://scitools.org.uk/cartopy/docs/latest/): Cartopy is a Python package designed for geospatial data processing in order to produce maps and other geospatial data analyses.\n",
    "\n",
    "* [Random](https://docs.python.org/3/library/random.html): This module implements pseudo-random number generators for various distributions.\n",
    "\n",
    "* [Seaborn](https://seaborn.pydata.org): Seaborn is a Python data visualization library based on matplotlib. It provides a high-level interface for drawing attractive and informative statistical graphics.\n",
    "\n",
    "* [ipywidgets](https://ipywidgets.readthedocs.io/en/latest/):Interactive HTML widgets for Jupyter notebooks and the IPython kernel. Widgets are eventful python objects that have a representation in the browser, often as a control like a slider, textbox, etc.\n",
    "\n",
    "* [ffmpeg](https://www.ffmpeg.org/about.html): FFmpeg is the leading multimedia framework, able to decode, encode, transcode, mux, demux, stream, filter and play pretty much anything that humans and machines have created. \n",
    "\n",
    "* [warnings](https://docs.python.org/3/library/warnings.html): Warning messages are typically issued in situations where it is useful to alert the user of some condition in a program, where that condition (normally) doesn’t warrant raising an exception and terminating the program. For example, one might want to issue a warning when a program uses an obsolete module.\n",
    "\n",
    "* [mpl_toolkits](https://matplotlib.org/mpl_toolkits/index.html):Toolkits are collections of application-specific functions that extend Matplotlib.\n",
    "\n",
    "* [Gmaps](https://jupyter-gmaps.readthedocs.io/en/latest/tutorial.html): gmaps is a plugin for Jupyter for embedding Google Maps in your notebooks. It is designed as a data visualization tool.\n",
    "\n",
    "* [OpenCV](https://docs.opencv.org/master/d1/dfb/intro.html): OpenCV (Open Source Computer Vision Library) is an open-source BSD-licensed library that includes several hundreds of computer vision algorithms.\n",
    "\n",
    "* [Pyproj](https://pyproj4.github.io/pyproj/stable/index.html): Python interface to PROJ (cartographic projections and coordinate transformations library). PROJ is a generic coordinate transformation software that transforms geospatial coordinates from one coordinate reference system (CRS) to another. This includes cartographic projections as well as geodetic transformations. \n",
    "\n",
    "* [Bokeh](https://docs.bokeh.org/en/1.0.0/): Bokeh is an interactive visualization library that targets modern web browsers for presentation. Its goal is to provide elegant, concise construction of versatile graphics, and to extend this capability with high-performance interactivity over very large or streaming datasets. Bokeh can help anyone who would like to quickly and easily create interactive plots, dashboards, and data applications."
   ]
  },
  {
   "cell_type": "markdown",
   "metadata": {},
   "source": [
    "### Estructuras de datos:\n",
    "<img src=\"tab1.png\" style=\"width: 900px;\"/>"
   ]
  },
  {
   "cell_type": "code",
   "execution_count": 54,
   "metadata": {},
   "outputs": [
    {
     "name": "stdout",
     "output_type": "stream",
     "text": [
      "Hola Mundo!\n"
     ]
    }
   ],
   "source": [
    "## Mi primer programa\n",
    "\n",
    "msn = 'Hola Mundo!' #Cadena\n",
    "print(msn)"
   ]
  },
  {
   "cell_type": "code",
   "execution_count": 55,
   "metadata": {},
   "outputs": [
    {
     "data": {
      "text/plain": [
       "1"
      ]
     },
     "execution_count": 55,
     "metadata": {},
     "output_type": "execute_result"
    }
   ],
   "source": [
    "int1 = 1 #entero\n",
    "int1"
   ]
  },
  {
   "cell_type": "code",
   "execution_count": 56,
   "metadata": {},
   "outputs": [
    {
     "data": {
      "text/plain": [
       "1.0"
      ]
     },
     "execution_count": 56,
     "metadata": {},
     "output_type": "execute_result"
    }
   ],
   "source": [
    "flt1 = 1.0 #flotante\n",
    "flt1"
   ]
  },
  {
   "cell_type": "code",
   "execution_count": 57,
   "metadata": {},
   "outputs": [
    {
     "data": {
      "text/plain": [
       "True"
      ]
     },
     "execution_count": 57,
     "metadata": {},
     "output_type": "execute_result"
    }
   ],
   "source": [
    "t = True #boolenao\n",
    "t"
   ]
  },
  {
   "cell_type": "code",
   "execution_count": 58,
   "metadata": {},
   "outputs": [
    {
     "data": {
      "text/plain": [
       "[1, 2, 'holi', 'bai', False]"
      ]
     },
     "execution_count": 58,
     "metadata": {},
     "output_type": "execute_result"
    }
   ],
   "source": [
    "lst = [1,2,\"holi\",\"bai\",False]\n",
    "lst"
   ]
  },
  {
   "cell_type": "code",
   "execution_count": 59,
   "metadata": {},
   "outputs": [
    {
     "data": {
      "text/plain": [
       "('Baltazar', 371637482712342)"
      ]
     },
     "execution_count": 59,
     "metadata": {},
     "output_type": "execute_result"
    }
   ],
   "source": [
    "tup = (\"Baltazar\",371637482712342)\n",
    "tup"
   ]
  },
  {
   "cell_type": "code",
   "execution_count": 60,
   "metadata": {},
   "outputs": [
    {
     "data": {
      "text/plain": [
       "{'Nombre': 'Lupillo', 'Edad': 35, 'Estatura': 1.34, 'Soltero': True}"
      ]
     },
     "execution_count": 60,
     "metadata": {},
     "output_type": "execute_result"
    }
   ],
   "source": [
    "dic = {\"Nombre\":\"Lupillo\",\"Edad\":35,\"Estatura\":1.34,\"Soltero\":True}\n",
    "dic"
   ]
  },
  {
   "cell_type": "markdown",
   "metadata": {},
   "source": [
    "## Transformación de datos"
   ]
  },
  {
   "cell_type": "code",
   "execution_count": 38,
   "metadata": {},
   "outputs": [
    {
     "name": "stdout",
     "output_type": "stream",
     "text": [
      "<class 'str'> 45\n"
     ]
    },
    {
     "data": {
      "text/plain": [
       "'45'"
      ]
     },
     "execution_count": 38,
     "metadata": {},
     "output_type": "execute_result"
    }
   ],
   "source": [
    "a='45'\n",
    "print(type(a),a)\n",
    "a"
   ]
  },
  {
   "cell_type": "code",
   "execution_count": 40,
   "metadata": {},
   "outputs": [
    {
     "name": "stdout",
     "output_type": "stream",
     "text": [
      "<class 'int'> 45\n"
     ]
    },
    {
     "data": {
      "text/plain": [
       "45"
      ]
     },
     "execution_count": 40,
     "metadata": {},
     "output_type": "execute_result"
    }
   ],
   "source": [
    "b=int(a)\n",
    "print(type(b),b)\n",
    "b"
   ]
  },
  {
   "cell_type": "code",
   "execution_count": 41,
   "metadata": {},
   "outputs": [
    {
     "name": "stdout",
     "output_type": "stream",
     "text": [
      "<class 'float'> 45.0\n"
     ]
    },
    {
     "data": {
      "text/plain": [
       "45.0"
      ]
     },
     "execution_count": 41,
     "metadata": {},
     "output_type": "execute_result"
    }
   ],
   "source": [
    "b=float(a)\n",
    "print(type(b),b)\n",
    "b"
   ]
  },
  {
   "cell_type": "code",
   "execution_count": 42,
   "metadata": {},
   "outputs": [
    {
     "name": "stdout",
     "output_type": "stream",
     "text": [
      "<class 'str'> 45.0\n"
     ]
    },
    {
     "data": {
      "text/plain": [
       "'45.0'"
      ]
     },
     "execution_count": 42,
     "metadata": {},
     "output_type": "execute_result"
    }
   ],
   "source": [
    "a=str(b)\n",
    "print(type(a),a)\n",
    "a"
   ]
  },
  {
   "cell_type": "code",
   "execution_count": 45,
   "metadata": {},
   "outputs": [
    {
     "data": {
      "text/plain": [
       "[1, 2, 3, 4]"
      ]
     },
     "execution_count": 45,
     "metadata": {},
     "output_type": "execute_result"
    }
   ],
   "source": [
    "ls=[1,2,3,4]\n",
    "type(ls)\n",
    "ls"
   ]
  },
  {
   "cell_type": "code",
   "execution_count": 46,
   "metadata": {},
   "outputs": [
    {
     "data": {
      "text/plain": [
       "(1, 2, 3, 4)"
      ]
     },
     "execution_count": 46,
     "metadata": {},
     "output_type": "execute_result"
    }
   ],
   "source": [
    "tp=tuple(ls)\n",
    "type(tp)\n",
    "tp"
   ]
  },
  {
   "cell_type": "markdown",
   "metadata": {},
   "source": [
    "## Indexar, operar y concatenar"
   ]
  },
  {
   "cell_type": "markdown",
   "metadata": {},
   "source": [
    "### [Operadores](https://entrenamiento-python-basico.readthedocs.io/es/latest/apendices/operadores.html)"
   ]
  },
  {
   "cell_type": "markdown",
   "metadata": {},
   "source": [
    "* De asignación:\n",
    "\n",
    "<img src=\"tab3.png\" style=\"width: 400px;\"/>\n",
    "\n",
    "* Aritméticos \n",
    "\n",
    "<img src=\"tab4.png\" style=\"width: 400px;\"/>\n",
    "\n",
    "* Relacionales \n",
    "\n",
    "<img src=\"tab5.png\" style=\"width: 400px;\"/>\n",
    "\n",
    "* Lógicos\n",
    "\n",
    "<img src=\"tab6.png\" style=\"width: 400px;\"/>"
   ]
  },
  {
   "cell_type": "code",
   "execution_count": 61,
   "metadata": {},
   "outputs": [
    {
     "data": {
      "text/plain": [
       "2.0"
      ]
     },
     "execution_count": 61,
     "metadata": {},
     "output_type": "execute_result"
    }
   ],
   "source": [
    "int1+flt1"
   ]
  },
  {
   "cell_type": "code",
   "execution_count": 62,
   "metadata": {},
   "outputs": [
    {
     "data": {
      "text/plain": [
       "'Hola Mundo!1'"
      ]
     },
     "execution_count": 62,
     "metadata": {},
     "output_type": "execute_result"
    }
   ],
   "source": [
    "msn+str(int1) #Concatenar"
   ]
  },
  {
   "cell_type": "code",
   "execution_count": 63,
   "metadata": {},
   "outputs": [
    {
     "data": {
      "text/plain": [
       "'Hola Mundo! aiuda!'"
      ]
     },
     "execution_count": 63,
     "metadata": {},
     "output_type": "execute_result"
    }
   ],
   "source": [
    "h=\" aiuda!\" #Concatenar\n",
    "g=msn+h\n",
    "g"
   ]
  },
  {
   "cell_type": "code",
   "execution_count": 64,
   "metadata": {},
   "outputs": [
    {
     "data": {
      "text/plain": [
       "[1, 2, 3, 4, 5, 6]"
      ]
     },
     "execution_count": 64,
     "metadata": {},
     "output_type": "execute_result"
    }
   ],
   "source": [
    "v1=[1,2,3]\n",
    "v2=[4,5,6]\n",
    "v1+v2"
   ]
  },
  {
   "cell_type": "code",
   "execution_count": 65,
   "metadata": {},
   "outputs": [
    {
     "data": {
      "text/plain": [
       "False"
      ]
     },
     "execution_count": 65,
     "metadata": {},
     "output_type": "execute_result"
    }
   ],
   "source": [
    "v1==v2"
   ]
  },
  {
   "cell_type": "code",
   "execution_count": 66,
   "metadata": {},
   "outputs": [
    {
     "name": "stdout",
     "output_type": "stream",
     "text": [
      "El valor de e es:  0.0011381138741823\n"
     ]
    }
   ],
   "source": [
    "a=3\n",
    "b=7\n",
    "d=8\n",
    "e=(a/b)**d\n",
    "print(\"El valor de e es: \",e)"
   ]
  },
  {
   "cell_type": "code",
   "execution_count": 67,
   "metadata": {},
   "outputs": [
    {
     "name": "stdin",
     "output_type": "stream",
     "text": [
      "Inserte un número:  8\n",
      "Inserte otro número:  4\n"
     ]
    },
    {
     "name": "stdout",
     "output_type": "stream",
     "text": [
      "¿El número  8  es mayor que el número  4 ? True\n"
     ]
    }
   ],
   "source": [
    "d=input(\"Inserte un número: \")\n",
    "f=input(\"Inserte otro número: \")\n",
    "print(\"¿El número \",d, \" es mayor que el número \",f,\"?\", d>f )"
   ]
  },
  {
   "cell_type": "code",
   "execution_count": 104,
   "metadata": {},
   "outputs": [
    {
     "name": "stdout",
     "output_type": "stream",
     "text": [
      "Si me sigo portando mal, los reyes no me van a traer obsequios :(\n",
      "Si me sigo portando mal, los reyes no me van a traer obsequios :(\n",
      "Si me sigo portando mal, los reyes no me van a traer obsequios :(\n",
      "Si me sigo portando mal, los reyes no me van a traer obsequios :(\n",
      "Si me sigo portando mal, los reyes no me van a traer obsequios :(\n",
      "Si me sigo portando mal, los reyes no me van a traer obsequios :(\n",
      "Si me sigo portando mal, los reyes no me van a traer obsequios :(\n",
      "Si me sigo portando mal, los reyes no me van a traer obsequios :(\n",
      "Si me sigo portando mal, los reyes no me van a traer obsequios :(\n",
      "Si me sigo portando mal, los reyes no me van a traer obsequios :(\n",
      "Si me sigo portando mal, los reyes no me van a traer obsequios :(\n",
      "Si me sigo portando mal, los reyes no me van a traer obsequios :(\n",
      "Si me sigo portando mal, los reyes no me van a traer obsequios :(\n",
      "Si me sigo portando mal, los reyes no me van a traer obsequios :(\n",
      "Si me sigo portando mal, los reyes no me van a traer obsequios :(\n",
      "Si me sigo portando mal, los reyes no me van a traer obsequios :(\n",
      "Si me sigo portando mal, los reyes no me van a traer obsequios :(\n",
      "Si me sigo portando mal, los reyes no me van a traer obsequios :(\n",
      "Si me sigo portando mal, los reyes no me van a traer obsequios :(\n",
      "Si me sigo portando mal, los reyes no me van a traer obsequios :(\n",
      "Si me sigo portando mal, los reyes no me van a traer obsequios :(\n",
      "Si me sigo portando mal, los reyes no me van a traer obsequios :(\n",
      "Si me sigo portando mal, los reyes no me van a traer obsequios :(\n",
      "Si me sigo portando mal, los reyes no me van a traer obsequios :(\n",
      "Si me sigo portando mal, los reyes no me van a traer obsequios :(\n",
      "Si me sigo portando mal, los reyes no me van a traer obsequios :(\n",
      "Si me sigo portando mal, los reyes no me van a traer obsequios :(\n",
      "Si me sigo portando mal, los reyes no me van a traer obsequios :(\n",
      "Si me sigo portando mal, los reyes no me van a traer obsequios :(\n",
      "Si me sigo portando mal, los reyes no me van a traer obsequios :(\n",
      "Si me sigo portando mal, los reyes no me van a traer obsequios :(\n",
      "Si me sigo portando mal, los reyes no me van a traer obsequios :(\n",
      "Si me sigo portando mal, los reyes no me van a traer obsequios :(\n",
      "Si me sigo portando mal, los reyes no me van a traer obsequios :(\n",
      "Si me sigo portando mal, los reyes no me van a traer obsequios :(\n",
      "Si me sigo portando mal, los reyes no me van a traer obsequios :(\n",
      "Si me sigo portando mal, los reyes no me van a traer obsequios :(\n",
      "Si me sigo portando mal, los reyes no me van a traer obsequios :(\n",
      "Si me sigo portando mal, los reyes no me van a traer obsequios :(\n",
      "Si me sigo portando mal, los reyes no me van a traer obsequios :(\n",
      "Si me sigo portando mal, los reyes no me van a traer obsequios :(\n",
      "Si me sigo portando mal, los reyes no me van a traer obsequios :(\n",
      "Si me sigo portando mal, los reyes no me van a traer obsequios :(\n",
      "Si me sigo portando mal, los reyes no me van a traer obsequios :(\n",
      "Si me sigo portando mal, los reyes no me van a traer obsequios :(\n",
      "Si me sigo portando mal, los reyes no me van a traer obsequios :(\n",
      "Si me sigo portando mal, los reyes no me van a traer obsequios :(\n",
      "Si me sigo portando mal, los reyes no me van a traer obsequios :(\n",
      "Si me sigo portando mal, los reyes no me van a traer obsequios :(\n",
      "Si me sigo portando mal, los reyes no me van a traer obsequios :(\n",
      "Si me sigo portando mal, los reyes no me van a traer obsequios :(\n",
      "Si me sigo portando mal, los reyes no me van a traer obsequios :(\n",
      "Si me sigo portando mal, los reyes no me van a traer obsequios :(\n",
      "Si me sigo portando mal, los reyes no me van a traer obsequios :(\n",
      "Si me sigo portando mal, los reyes no me van a traer obsequios :(\n",
      "Si me sigo portando mal, los reyes no me van a traer obsequios :(\n",
      "Si me sigo portando mal, los reyes no me van a traer obsequios :(\n",
      "Si me sigo portando mal, los reyes no me van a traer obsequios :(\n",
      "Si me sigo portando mal, los reyes no me van a traer obsequios :(\n",
      "Si me sigo portando mal, los reyes no me van a traer obsequios :(\n",
      "Si me sigo portando mal, los reyes no me van a traer obsequios :(\n",
      "Si me sigo portando mal, los reyes no me van a traer obsequios :(\n",
      "Si me sigo portando mal, los reyes no me van a traer obsequios :(\n",
      "Si me sigo portando mal, los reyes no me van a traer obsequios :(\n",
      "Si me sigo portando mal, los reyes no me van a traer obsequios :(\n",
      "Si me sigo portando mal, los reyes no me van a traer obsequios :(\n",
      "Si me sigo portando mal, los reyes no me van a traer obsequios :(\n",
      "Si me sigo portando mal, los reyes no me van a traer obsequios :(\n",
      "Si me sigo portando mal, los reyes no me van a traer obsequios :(\n",
      "Si me sigo portando mal, los reyes no me van a traer obsequios :(\n",
      "Si me sigo portando mal, los reyes no me van a traer obsequios :(\n",
      "Si me sigo portando mal, los reyes no me van a traer obsequios :(\n",
      "Si me sigo portando mal, los reyes no me van a traer obsequios :(\n",
      "Si me sigo portando mal, los reyes no me van a traer obsequios :(\n",
      "Si me sigo portando mal, los reyes no me van a traer obsequios :(\n",
      "Si me sigo portando mal, los reyes no me van a traer obsequios :(\n",
      "Si me sigo portando mal, los reyes no me van a traer obsequios :(\n",
      "Si me sigo portando mal, los reyes no me van a traer obsequios :(\n",
      "Si me sigo portando mal, los reyes no me van a traer obsequios :(\n",
      "Si me sigo portando mal, los reyes no me van a traer obsequios :(\n",
      "Si me sigo portando mal, los reyes no me van a traer obsequios :(\n",
      "Si me sigo portando mal, los reyes no me van a traer obsequios :(\n",
      "Si me sigo portando mal, los reyes no me van a traer obsequios :(\n",
      "Si me sigo portando mal, los reyes no me van a traer obsequios :(\n",
      "Si me sigo portando mal, los reyes no me van a traer obsequios :(\n",
      "Si me sigo portando mal, los reyes no me van a traer obsequios :(\n",
      "Si me sigo portando mal, los reyes no me van a traer obsequios :(\n",
      "Si me sigo portando mal, los reyes no me van a traer obsequios :(\n",
      "Si me sigo portando mal, los reyes no me van a traer obsequios :(\n",
      "Si me sigo portando mal, los reyes no me van a traer obsequios :(\n",
      "Si me sigo portando mal, los reyes no me van a traer obsequios :(\n",
      "Si me sigo portando mal, los reyes no me van a traer obsequios :(\n",
      "Si me sigo portando mal, los reyes no me van a traer obsequios :(\n",
      "Si me sigo portando mal, los reyes no me van a traer obsequios :(\n",
      "Si me sigo portando mal, los reyes no me van a traer obsequios :(\n",
      "Si me sigo portando mal, los reyes no me van a traer obsequios :(\n",
      "Si me sigo portando mal, los reyes no me van a traer obsequios :(\n",
      "Si me sigo portando mal, los reyes no me van a traer obsequios :(\n",
      "Si me sigo portando mal, los reyes no me van a traer obsequios :(\n",
      "Si me sigo portando mal, los reyes no me van a traer obsequios :(\n",
      "\n"
     ]
    }
   ],
   "source": [
    "#Te portaste mal y te dijeron que escribieras 100 veces lo siguiente: \"Si me sigo portando mal, los reyes no me van\n",
    "#a traer obsequios\"\n",
    "\n",
    "castigo=\"Si me sigo portando mal, los reyes no me van a traer obsequios :(\\n\"\n",
    "\n",
    "print(castigo*100)"
   ]
  },
  {
   "cell_type": "markdown",
   "metadata": {},
   "source": [
    "## Indexación"
   ]
  },
  {
   "cell_type": "raw",
   "metadata": {},
   "source": [
    " +---+---+---+---+---+---+\n",
    " | P | y | t | h | o | n |\n",
    " +---+---+---+---+---+---+\n",
    "   0   1   2   3   4   5  \n",
    "  -6  -5  -4  -3  -2  -1"
   ]
  },
  {
   "cell_type": "code",
   "execution_count": 105,
   "metadata": {},
   "outputs": [
    {
     "data": {
      "text/plain": [
       "['P', 'y', 't', 'h', 'o', 'n']"
      ]
     },
     "execution_count": 105,
     "metadata": {},
     "output_type": "execute_result"
    }
   ],
   "source": [
    "l=['P','y','t','h','o','n']\n",
    "l"
   ]
  },
  {
   "cell_type": "code",
   "execution_count": 106,
   "metadata": {},
   "outputs": [
    {
     "data": {
      "text/plain": [
       "6"
      ]
     },
     "execution_count": 106,
     "metadata": {},
     "output_type": "execute_result"
    }
   ],
   "source": [
    "len(l) # El índice siempre va de 0 a 5 (len(l)-1)"
   ]
  },
  {
   "cell_type": "code",
   "execution_count": 71,
   "metadata": {},
   "outputs": [
    {
     "data": {
      "text/plain": [
       "'P'"
      ]
     },
     "execution_count": 71,
     "metadata": {},
     "output_type": "execute_result"
    }
   ],
   "source": [
    "l[0]"
   ]
  },
  {
   "cell_type": "code",
   "execution_count": 72,
   "metadata": {},
   "outputs": [
    {
     "data": {
      "text/plain": [
       "'h'"
      ]
     },
     "execution_count": 72,
     "metadata": {},
     "output_type": "execute_result"
    }
   ],
   "source": [
    "l[-3]"
   ]
  },
  {
   "cell_type": "code",
   "execution_count": 73,
   "metadata": {},
   "outputs": [
    {
     "data": {
      "text/plain": [
       "'hot'"
      ]
     },
     "execution_count": 73,
     "metadata": {},
     "output_type": "execute_result"
    }
   ],
   "source": [
    "l[3]+l[-2]+l[2]"
   ]
  },
  {
   "cell_type": "code",
   "execution_count": 74,
   "metadata": {},
   "outputs": [
    {
     "data": {
      "text/plain": [
       "True"
      ]
     },
     "execution_count": 74,
     "metadata": {},
     "output_type": "execute_result"
    }
   ],
   "source": [
    "l[5]==l[-1]"
   ]
  },
  {
   "cell_type": "code",
   "execution_count": 75,
   "metadata": {},
   "outputs": [
    {
     "data": {
      "text/plain": [
       "[1, 2, 'holi', 'bai', False]"
      ]
     },
     "execution_count": 75,
     "metadata": {},
     "output_type": "execute_result"
    }
   ],
   "source": [
    "lst"
   ]
  },
  {
   "cell_type": "code",
   "execution_count": 76,
   "metadata": {},
   "outputs": [
    {
     "data": {
      "text/plain": [
       "'i'"
      ]
     },
     "execution_count": 76,
     "metadata": {},
     "output_type": "execute_result"
    }
   ],
   "source": [
    "lst[2][3]"
   ]
  },
  {
   "cell_type": "markdown",
   "metadata": {},
   "source": [
    "## Slice"
   ]
  },
  {
   "cell_type": "code",
   "execution_count": 77,
   "metadata": {},
   "outputs": [
    {
     "data": {
      "text/plain": [
       "'ho'"
      ]
     },
     "execution_count": 77,
     "metadata": {},
     "output_type": "execute_result"
    }
   ],
   "source": [
    "lst[2][:2] #si tengo :n , el corte va de 0 a n-1"
   ]
  },
  {
   "cell_type": "code",
   "execution_count": 78,
   "metadata": {},
   "outputs": [
    {
     "data": {
      "text/plain": [
       "True"
      ]
     },
     "execution_count": 78,
     "metadata": {},
     "output_type": "execute_result"
    }
   ],
   "source": [
    "lst[2][:-1]==lst[2][:3]"
   ]
  },
  {
   "cell_type": "code",
   "execution_count": 79,
   "metadata": {},
   "outputs": [
    {
     "data": {
      "text/plain": [
       "'ai'"
      ]
     },
     "execution_count": 79,
     "metadata": {},
     "output_type": "execute_result"
    }
   ],
   "source": [
    "lst[3][1:] #si tengo n: , el corte va de n al final (indice: len(l)-1)"
   ]
  },
  {
   "cell_type": "code",
   "execution_count": 80,
   "metadata": {},
   "outputs": [
    {
     "data": {
      "text/plain": [
       "['holi', 'bai']"
      ]
     },
     "execution_count": 80,
     "metadata": {},
     "output_type": "execute_result"
    }
   ],
   "source": [
    "lst[2:4] #si tengo n:m el corte va de n a m-1"
   ]
  },
  {
   "cell_type": "markdown",
   "metadata": {},
   "source": [
    "## Para diccionarios"
   ]
  },
  {
   "cell_type": "code",
   "execution_count": 26,
   "metadata": {},
   "outputs": [
    {
     "data": {
      "text/plain": [
       "{'Nom': ['raul', 'monse', 'bla', 'etc'],\n",
       " 'edad': [14, 19, 20, 48, 3],\n",
       " 'sexo': ['h', 'm', 'nb', 'u']}"
      ]
     },
     "execution_count": 26,
     "metadata": {},
     "output_type": "execute_result"
    }
   ],
   "source": [
    "dic={'Nom':['raul','monse','bla','etc'],'edad':[14,19,20,48,3],\n",
    "     'sexo':['h','m','nb','u']}\n",
    "dic"
   ]
  },
  {
   "cell_type": "code",
   "execution_count": 27,
   "metadata": {},
   "outputs": [
    {
     "data": {
      "text/plain": [
       "['raul', 'monse', 'bla', 'etc']"
      ]
     },
     "execution_count": 27,
     "metadata": {},
     "output_type": "execute_result"
    }
   ],
   "source": [
    "dic['Nom'] #Por llave"
   ]
  },
  {
   "cell_type": "code",
   "execution_count": 28,
   "metadata": {},
   "outputs": [
    {
     "data": {
      "text/plain": [
       "'nb'"
      ]
     },
     "execution_count": 28,
     "metadata": {},
     "output_type": "execute_result"
    }
   ],
   "source": [
    "dic['sexo'][2]"
   ]
  },
  {
   "cell_type": "markdown",
   "metadata": {},
   "source": [
    "# Algunos métodos "
   ]
  },
  {
   "cell_type": "code",
   "execution_count": 81,
   "metadata": {},
   "outputs": [],
   "source": [
    "l2=[1,2,3,4,5,6,7,8,9,10]"
   ]
  },
  {
   "cell_type": "code",
   "execution_count": 82,
   "metadata": {},
   "outputs": [
    {
     "data": {
      "text/plain": [
       "[1, 2, 3, 4, 5, 6, 7, 8, 9, 10, [11, 12, 13, 14]]"
      ]
     },
     "execution_count": 82,
     "metadata": {},
     "output_type": "execute_result"
    }
   ],
   "source": [
    "l2.append([11,12,13,14]) #Agrega elementos, en este caso, una lista\n",
    "l2"
   ]
  },
  {
   "cell_type": "code",
   "execution_count": 83,
   "metadata": {},
   "outputs": [
    {
     "data": {
      "text/plain": [
       "[1, 2, 3, 4, 5, 6, 7, 8, 9, 10, [11, 12, 13, 14], 15, 16, 17, 18]"
      ]
     },
     "execution_count": 83,
     "metadata": {},
     "output_type": "execute_result"
    }
   ],
   "source": [
    "l2.extend([15,16,17,18]) ##Agrega elementos, en este caso, uno por uno\n",
    "l2"
   ]
  },
  {
   "cell_type": "markdown",
   "metadata": {},
   "source": [
    "¿Qué diferencia hay entre append y extend?"
   ]
  },
  {
   "cell_type": "code",
   "execution_count": null,
   "metadata": {},
   "outputs": [],
   "source": []
  },
  {
   "cell_type": "code",
   "execution_count": 84,
   "metadata": {},
   "outputs": [
    {
     "data": {
      "text/plain": [
       "[1, 2, 3, 4, 5, 6, 7, 8, 9, 10, 15, 16, 17, 18]"
      ]
     },
     "execution_count": 84,
     "metadata": {},
     "output_type": "execute_result"
    }
   ],
   "source": [
    "l2=[1,2,3,4,5,6,7,8,9,10]\n",
    "l3=[15,16,17,18]\n",
    "l2=l2+l3\n",
    "l2"
   ]
  },
  {
   "cell_type": "code",
   "execution_count": 85,
   "metadata": {},
   "outputs": [
    {
     "data": {
      "text/plain": [
       "[1, 2, 3, 4, 5, 6, 7, 8, 9, 10, 15, 16, 17, 18]"
      ]
     },
     "execution_count": 85,
     "metadata": {},
     "output_type": "execute_result"
    }
   ],
   "source": [
    "l2=[1,2,3,4,5,6,7,8,9,10]\n",
    "l2.extend([15,16,17,18]) \n",
    "l2"
   ]
  },
  {
   "cell_type": "markdown",
   "metadata": {},
   "source": [
    "¿Extend o sumar listas?"
   ]
  },
  {
   "cell_type": "code",
   "execution_count": null,
   "metadata": {},
   "outputs": [],
   "source": []
  },
  {
   "cell_type": "code",
   "execution_count": 86,
   "metadata": {},
   "outputs": [
    {
     "data": {
      "text/plain": [
       "[1, 2, 3, 4, 5, 6, 7, 8, 9, 10, 15, 16, 17]"
      ]
     },
     "execution_count": 86,
     "metadata": {},
     "output_type": "execute_result"
    }
   ],
   "source": [
    "l2.remove(18) #Elimina el primer elemento con el valor indicado\n",
    "l2"
   ]
  },
  {
   "cell_type": "code",
   "execution_count": 87,
   "metadata": {},
   "outputs": [
    {
     "data": {
      "text/plain": [
       "[1, 2, 3, 4, 'aiuda', 5, 6, 7, 8, 9, 10, 15, 16, 17]"
      ]
     },
     "execution_count": 87,
     "metadata": {},
     "output_type": "execute_result"
    }
   ],
   "source": [
    "l2.insert(4,'aiuda') #Teniendo como argumentos (n,x) inserta en el indice n el valor x \n",
    "l2"
   ]
  },
  {
   "cell_type": "code",
   "execution_count": 88,
   "metadata": {},
   "outputs": [
    {
     "data": {
      "text/plain": [
       "[1, 2, 3, 4, 'aiuda', 5, 6, 7, 8, 9, 10]"
      ]
     },
     "execution_count": 88,
     "metadata": {},
     "output_type": "execute_result"
    }
   ],
   "source": [
    "del l2[-3:] #elimar elementos por indice \n",
    "l2"
   ]
  },
  {
   "cell_type": "code",
   "execution_count": 327,
   "metadata": {},
   "outputs": [
    {
     "data": {
      "text/plain": [
       "{'j', 'r', 't', 'w', 'y'}"
      ]
     },
     "execution_count": 327,
     "metadata": {},
     "output_type": "execute_result"
    }
   ],
   "source": [
    "#Para conocer los elementos únicos que hay en la lista k\n",
    "k=['r','j','y','t','w','t','w','j','y','r','w','t','y'] \n",
    "set(k) #utilizamos la función set"
   ]
  },
  {
   "cell_type": "code",
   "execution_count": 78,
   "metadata": {},
   "outputs": [
    {
     "data": {
      "text/plain": [
       "[0, 1, 2, 2, 3, 4, 5, 6, 7, 7, 7, 8, 9, 9, 10, 43, 53, 56, 65]"
      ]
     },
     "execution_count": 78,
     "metadata": {},
     "output_type": "execute_result"
    }
   ],
   "source": [
    "#Para ordenar elementos en una lista\n",
    "k=[9,7,5,1,4,3,6,8,7,9,10,43,56,2,0,53,65,2,7]\n",
    "k.sort() #Si el argumento es 'invert=True' se ordena de forma descendiente\n",
    "k"
   ]
  },
  {
   "cell_type": "markdown",
   "metadata": {},
   "source": [
    "### Para cadenas "
   ]
  },
  {
   "cell_type": "code",
   "execution_count": 89,
   "metadata": {},
   "outputs": [],
   "source": [
    "Nombre=\"Juan Yao Trotski\""
   ]
  },
  {
   "cell_type": "code",
   "execution_count": 90,
   "metadata": {},
   "outputs": [
    {
     "data": {
      "text/plain": [
       "['Juan', 'Yao', 'Trotski']"
      ]
     },
     "execution_count": 90,
     "metadata": {},
     "output_type": "execute_result"
    }
   ],
   "source": [
    "ln=Nombre.split(\" \") \n",
    "ln"
   ]
  },
  {
   "cell_type": "code",
   "execution_count": 91,
   "metadata": {},
   "outputs": [
    {
     "data": {
      "text/plain": [
       "['06', '01', '19']"
      ]
     },
     "execution_count": 91,
     "metadata": {},
     "output_type": "execute_result"
    }
   ],
   "source": [
    "Fecha='06/01/19'\n",
    "lf=Fecha.split('/')\n",
    "lf"
   ]
  },
  {
   "cell_type": "code",
   "execution_count": 92,
   "metadata": {},
   "outputs": [
    {
     "data": {
      "text/plain": [
       "'Juan Yao Trotski'"
      ]
     },
     "execution_count": 92,
     "metadata": {},
     "output_type": "execute_result"
    }
   ],
   "source": [
    "\" \".join(ln)"
   ]
  },
  {
   "cell_type": "code",
   "execution_count": 93,
   "metadata": {},
   "outputs": [
    {
     "data": {
      "text/plain": [
       "'06/01/19'"
      ]
     },
     "execution_count": 93,
     "metadata": {},
     "output_type": "execute_result"
    }
   ],
   "source": [
    "\"/\".join(lf)"
   ]
  },
  {
   "cell_type": "code",
   "execution_count": 94,
   "metadata": {},
   "outputs": [
    {
     "data": {
      "text/plain": [
       "'JUAN YAO TROTSKI'"
      ]
     },
     "execution_count": 94,
     "metadata": {},
     "output_type": "execute_result"
    }
   ],
   "source": [
    "Nombre.upper() #aveces es preferible trabajr todo en mayusculas"
   ]
  },
  {
   "cell_type": "code",
   "execution_count": 95,
   "metadata": {},
   "outputs": [
    {
     "data": {
      "text/plain": [
       "'juan yao trotski'"
      ]
     },
     "execution_count": 95,
     "metadata": {},
     "output_type": "execute_result"
    }
   ],
   "source": [
    "Nombre.lower() #o en minusculas..."
   ]
  },
  {
   "cell_type": "code",
   "execution_count": null,
   "metadata": {},
   "outputs": [],
   "source": [
    "## Sin acentos\n",
    "from unidecode import unidecode\n",
    "\n",
    "unidecode('cadena')"
   ]
  },
  {
   "cell_type": "code",
   "execution_count": 96,
   "metadata": {},
   "outputs": [
    {
     "data": {
      "text/plain": [
       "2"
      ]
     },
     "execution_count": 96,
     "metadata": {},
     "output_type": "execute_result"
    }
   ],
   "source": [
    "Nombre.count('o') #Cuenta cuantas veces aparece la letra o"
   ]
  },
  {
   "cell_type": "code",
   "execution_count": 97,
   "metadata": {},
   "outputs": [
    {
     "data": {
      "text/plain": [
       "7"
      ]
     },
     "execution_count": 97,
     "metadata": {},
     "output_type": "execute_result"
    }
   ],
   "source": [
    "Nombre.find('o') #Me regresa el índice correspondiente a la primer aparecion de 'o'"
   ]
  },
  {
   "cell_type": "code",
   "execution_count": 98,
   "metadata": {},
   "outputs": [
    {
     "data": {
      "text/plain": [
       "'o'"
      ]
     },
     "execution_count": 98,
     "metadata": {},
     "output_type": "execute_result"
    }
   ],
   "source": [
    "Nombre[7]"
   ]
  },
  {
   "cell_type": "code",
   "execution_count": 99,
   "metadata": {},
   "outputs": [
    {
     "data": {
      "text/plain": [
       "'06-01-19'"
      ]
     },
     "execution_count": 99,
     "metadata": {},
     "output_type": "execute_result"
    }
   ],
   "source": [
    "Fecha.replace(\"/\",\"-\") "
   ]
  },
  {
   "cell_type": "markdown",
   "metadata": {},
   "source": [
    "### Mutabilidad o inmutabilidad"
   ]
  },
  {
   "cell_type": "code",
   "execution_count": 100,
   "metadata": {},
   "outputs": [
    {
     "data": {
      "text/plain": [
       "[1, 2, 3, 4, 'aiuda', 5, 6, 7, 8, 9, 10]"
      ]
     },
     "execution_count": 100,
     "metadata": {},
     "output_type": "execute_result"
    }
   ],
   "source": [
    "l2"
   ]
  },
  {
   "cell_type": "code",
   "execution_count": 101,
   "metadata": {},
   "outputs": [
    {
     "data": {
      "text/plain": [
       "[1, 2, 3, 4, 5, 6, 7, 8, 9, 10]"
      ]
     },
     "execution_count": 101,
     "metadata": {},
     "output_type": "execute_result"
    }
   ],
   "source": [
    "l2.remove('aiuda')\n",
    "l2"
   ]
  },
  {
   "cell_type": "code",
   "execution_count": 102,
   "metadata": {},
   "outputs": [
    {
     "data": {
      "text/plain": [
       "['t', 'j', 'r', 4, 5, 6, 7, 8, 9, 10]"
      ]
     },
     "execution_count": 102,
     "metadata": {},
     "output_type": "execute_result"
    }
   ],
   "source": [
    "l2[:3]=['t','j','r'] #Las listas son mutables\n",
    "l2"
   ]
  },
  {
   "cell_type": "code",
   "execution_count": 103,
   "metadata": {},
   "outputs": [
    {
     "ename": "TypeError",
     "evalue": "'tuple' object does not support item assignment",
     "output_type": "error",
     "traceback": [
      "\u001b[0;31m---------------------------------------------------------------------------\u001b[0m",
      "\u001b[0;31mTypeError\u001b[0m                                 Traceback (most recent call last)",
      "\u001b[0;32m<ipython-input-103-ea59d41ebdb2>\u001b[0m in \u001b[0;36m<module>\u001b[0;34m\u001b[0m\n\u001b[1;32m      1\u001b[0m \u001b[0mtu\u001b[0m\u001b[0;34m=\u001b[0m\u001b[0;34m(\u001b[0m\u001b[0;36m1\u001b[0m\u001b[0;34m,\u001b[0m\u001b[0;36m2\u001b[0m\u001b[0;34m,\u001b[0m\u001b[0;36m3\u001b[0m\u001b[0;34m,\u001b[0m\u001b[0;36m4\u001b[0m\u001b[0;34m)\u001b[0m \u001b[0;31m#Las tuplas NO son mutables\u001b[0m\u001b[0;34m\u001b[0m\u001b[0;34m\u001b[0m\u001b[0m\n\u001b[0;32m----> 2\u001b[0;31m \u001b[0mtu\u001b[0m\u001b[0;34m[\u001b[0m\u001b[0;36m0\u001b[0m\u001b[0;34m]\u001b[0m\u001b[0;34m=\u001b[0m\u001b[0;34m'chale'\u001b[0m\u001b[0;34m\u001b[0m\u001b[0;34m\u001b[0m\u001b[0m\n\u001b[0m",
      "\u001b[0;31mTypeError\u001b[0m: 'tuple' object does not support item assignment"
     ]
    }
   ],
   "source": [
    "tu=(1,2,3,4) #Las tuplas NO son mutables\n",
    "tu[0]='chale'"
   ]
  },
  {
   "cell_type": "code",
   "execution_count": null,
   "metadata": {},
   "outputs": [],
   "source": [
    "Nombre"
   ]
  },
  {
   "cell_type": "code",
   "execution_count": null,
   "metadata": {},
   "outputs": [],
   "source": [
    "len(Nombre)"
   ]
  },
  {
   "cell_type": "code",
   "execution_count": null,
   "metadata": {},
   "outputs": [],
   "source": [
    "Nombre[:8]"
   ]
  },
  {
   "cell_type": "code",
   "execution_count": null,
   "metadata": {},
   "outputs": [],
   "source": [
    "Nombre[:4]='Luis' #Las cadenas NO son mutables"
   ]
  },
  {
   "cell_type": "markdown",
   "metadata": {},
   "source": [
    "# Ejercicios"
   ]
  },
  {
   "cell_type": "markdown",
   "metadata": {},
   "source": [
    "1.- Imagina que estas en una fiesta y a alguien propone que cada vez que Cristian Castro diga 'Azul' todos le darán un shot a su bebida.\n",
    "\n",
    "a) ¿Cuantas veces se dice la palabra 'azul'? ¿jugarías?\n",
    "\n",
    "b) Cambia 'azul' por tu color favorito (distinto de azul)"
   ]
  },
  {
   "cell_type": "code",
   "execution_count": null,
   "metadata": {},
   "outputs": [],
   "source": [
    "azul=\"\"\"Fue una mañana que yo te encontré\n",
    "Cuando la brisa besaba tu dulce piel\n",
    "Tus ojos tristes que al ver adore\n",
    "La noche que yo te ame, eh\n",
    "\n",
    "Azul, cuando el silencio por fin te bese\n",
    "Azul, sentí muy dentro nacer este amor\n",
    "Azul, hoy miro al cielo y en ti puedo ver\n",
    "La estrella que siempre soñé\n",
    "\n",
    "Azul, y es que este amor es azul como el mar\n",
    "Azul, como de tu mirada nació mi ilusión\n",
    "Azul como una lagrima cuando hay perdón\n",
    "Tan puro y tan azul que embriagó el corazón\n",
    "\n",
    "Es que este amor es azul como el mar\n",
    "Azul, como el azul del cielo nació entre los dos\n",
    "Azul, como el lucero de nuestra pasión\n",
    "Un manantial azul\n",
    "Que me llena de amor\n",
    "\n",
    "Como el milagro que tanto espere\n",
    "Eres la niña que siempre busque\n",
    "Azul, es tu inocencia que quiero entender\n",
    "Tu príncipe azul yo seré\n",
    "\n",
    "Azul, es mi locura si estoy junto a ti\n",
    "Azul, rayo de luna serás para mi\n",
    "Azul, con la lluvia pintada de azul\n",
    "Por siempre serás solo tu\n",
    "\n",
    "Azul, y es que este amor es azul como el mar\n",
    "Azul, como de tu mirada nació mi ilusión\n",
    "Azul como una lagrima cuando hay perdón\n",
    "Tan puro y tan azul que embriagó el corazón\n",
    "\n",
    "Es que este amor es azul como el mar\n",
    "Azul, como el azul del cielo nació entre los dos\n",
    "Azul, como el lucero de nuestra pasión\n",
    "Un manantial azul\n",
    "Que me llena de amor\n",
    "\n",
    "Azul, y es que este amor es azul como el mar\n",
    "Azul, como de tu mirada nació mi ilusión\n",
    "Azul como una lagrima cuando hay perdón\n",
    "Tan puro y tan azul que embriagó el corazón\n",
    "\n",
    "Es que este amor es azul como el mar\n",
    "Azul, como el azul del cielo nació entre los dos\n",
    "Azul, como el lucero de nuestra pasión\n",
    "Un manantial azul\n",
    "Que me llena de amor\n",
    "\n",
    "Es que este amor es azul como el mar\n",
    "Azul, como de tu mirada nació mi ilusión\n",
    "Azul como una lagrima cuando hay perdón\n",
    "Un manantial azul\n",
    "Que me llena de amor\"\"\"\n",
    "\n",
    "azul"
   ]
  },
  {
   "cell_type": "code",
   "execution_count": null,
   "metadata": {},
   "outputs": [],
   "source": [
    "#Solución a)\n",
    "\n",
    "azul=azul.lower()\n",
    "azul.count('azul')"
   ]
  },
  {
   "cell_type": "code",
   "execution_count": null,
   "metadata": {},
   "outputs": [],
   "source": [
    "#Solución b)\n",
    "\n",
    "azC = azul.replace('azul','CANELITA')\n",
    "azC"
   ]
  },
  {
   "cell_type": "markdown",
   "metadata": {},
   "source": [
    "2.-Como cuota de recuperación, los integrantes de la SAIG te han pedido que organices en un diccionario a algunos de los asistentes al curso de Python Básico.\n",
    "\n",
    "El diccionario debe tener como llaves: Nombre completo empezando por apellido, Carrera, Correo, Fecha y Hora de registro\n",
    "\n",
    "Los datos son:\n",
    "\n",
    "* 2019/11/29 11:16:19 a.m. GMT-6\tcarla_delarosa15@ciencias.unam.mx\tCarla Guadalupe De la Rosa Peredo \tCiencias de la Tierra\n",
    "* 2019/11/30 6:08:52 p.m. GMT-6\tspaco964@gmail.com\tSánchez Figueroa Eduardo Francisco\tInformática\n",
    "* 2019/11/30 6:10:11 p.m. GMT-6\tgabrielonch1119@gmail.com\tGabriel Antonio Franco Almontes\tIngenieria Geofísica\n",
    "* 2019/11/30 6:11:50 p.m. GMT-6\tmaryjoavila18@gmail.com\tMaría José Avila Arredondo\tIngeniería de Minas y Metalurgia\n",
    "* 2019/11/30 6:11:50 p.m. GMT-6\tnancy.sud.89@gmail.com\tNancy Paola Patiño Hernández\tIngeniería Geológica\n",
    "* 2019/11/30 6:15:59 p.m. GMT-6\toswasrjwcfree@gmail.com\tOsvaldo Solano Román\tING. Geomática"
   ]
  },
  {
   "cell_type": "code",
   "execution_count": 352,
   "metadata": {},
   "outputs": [],
   "source": [
    "## Solución\n",
    "a1='2019/11/29 11:16:19 a.m. GMT-6\tcarla_delarosa15@ciencias.unam.mx\tCarla Guadalupe De la Rosa Peredo Ciencias de la Tierra'.replace(\"\\t\",\" \")\n",
    "a2='2019/11/30 6:08:52 p.m. GMT-6\tspaco964@gmail.com\tSánchez Figueroa Eduardo Francisco\tInformática'.replace(\"\\t\",\" \")\n",
    "a3='2019/11/30 6:10:11 p.m. GMT-6\tgabrielonch1119@gmail.com\tGabriel Antonio Franco Almontes\tIngenieria Geofísica'.replace(\"\\t\",\" \")\n",
    "a4='2019/11/30 6:11:50 p.m. GMT-6\tmaryjoavila18@gmail.com\tMaría José Avila Arredondo\tIngeniería de Minas y Metalurgia'.replace(\"\\t\",\" \")\n",
    "a5='2019/11/30 6:11:50 p.m. GMT-6\tnancy.sud.89@gmail.com\tNancy Paola Patiño Hernández\tIngeniería Geológica'.replace(\"\\t\",\" \")\n",
    "a6='2019/11/30 6:15:59 p.m. GMT-6\toswasrjwcfree@gmail.com\tOsvaldo Solano Román\tING. Geomática'.replace(\"\\t\",\" \")"
   ]
  },
  {
   "cell_type": "code",
   "execution_count": 353,
   "metadata": {},
   "outputs": [
    {
     "data": {
      "text/plain": [
       "['2019/11/29',\n",
       " '11:16:19',\n",
       " 'a.m.',\n",
       " 'GMT-6',\n",
       " 'carla_delarosa15@ciencias.unam.mx',\n",
       " 'Carla',\n",
       " 'Guadalupe',\n",
       " 'De',\n",
       " 'la',\n",
       " 'Rosa',\n",
       " 'Peredo',\n",
       " 'Ciencias',\n",
       " 'de',\n",
       " 'la',\n",
       " 'Tierra']"
      ]
     },
     "execution_count": 353,
     "metadata": {},
     "output_type": "execute_result"
    }
   ],
   "source": [
    "a1=a1.split(\" \")\n",
    "a2=a2.split(\" \")\n",
    "a3=a3.split(\" \")\n",
    "a4=a4.split(\" \")\n",
    "a5=a5.split(\" \")\n",
    "a6=a6.split(\" \")\n",
    "a1"
   ]
  },
  {
   "cell_type": "code",
   "execution_count": 354,
   "metadata": {},
   "outputs": [
    {
     "data": {
      "text/plain": [
       "['2019/11/29 11:16:19 a.m.',\n",
       " '2019/11/30 6:08:52 p.m.',\n",
       " '2019/11/30 6:10:11 p.m.',\n",
       " '2019/11/30 6:11:50 p.m.',\n",
       " '2019/11/30 6:11:50 p.m.',\n",
       " '2019/11/30 6:15:59 p.m.']"
      ]
     },
     "execution_count": 354,
     "metadata": {},
     "output_type": "execute_result"
    }
   ],
   "source": [
    "h1=\" \".join(a1[:3])\n",
    "h2=\" \".join(a2[:3])\n",
    "h3=\" \".join(a3[:3])\n",
    "h4=\" \".join(a4[:3])\n",
    "h5=\" \".join(a5[:3])\n",
    "h6=\" \".join(a6[:3])\n",
    "horas=[h1,h2,h3,h4,h5,h6]\n",
    "horas"
   ]
  },
  {
   "cell_type": "code",
   "execution_count": 355,
   "metadata": {},
   "outputs": [
    {
     "data": {
      "text/plain": [
       "['carla_delarosa15@ciencias.unam.mx',\n",
       " 'spaco964@gmail.com',\n",
       " 'gabrielonch1119@gmail.com',\n",
       " 'maryjoavila18@gmail.com',\n",
       " 'nancy.sud.89@gmail.com',\n",
       " 'oswasrjwcfree@gmail.com']"
      ]
     },
     "execution_count": 355,
     "metadata": {},
     "output_type": "execute_result"
    }
   ],
   "source": [
    "cor1=a1[4]\n",
    "cor2=a2[4]\n",
    "cor3=a3[4]\n",
    "cor4=a4[4]\n",
    "cor5=a5[4]\n",
    "cor6=a6[4]\n",
    "correos=[cor1,cor2,cor3,cor4,cor5,cor6]\n",
    "correos"
   ]
  },
  {
   "cell_type": "code",
   "execution_count": 356,
   "metadata": {},
   "outputs": [
    {
     "data": {
      "text/plain": [
       "['Ciencias de la Tierra',\n",
       " 'Informática',\n",
       " 'Ingenieria Geofísica',\n",
       " 'Ingeniería de Minas y Metalurgia',\n",
       " 'Ingeniería Geológica',\n",
       " 'ING. Geomática']"
      ]
     },
     "execution_count": 356,
     "metadata": {},
     "output_type": "execute_result"
    }
   ],
   "source": [
    "car1=\" \".join(a1[-4:])\n",
    "car2=a2[-1]\n",
    "car3=\" \".join(a3[-2:])\n",
    "car4=\" \".join(a4[-5:])\n",
    "car5=\" \".join(a5[-2:])\n",
    "car6=\" \".join(a6[-2:])\n",
    "carreras=[car1,car2,car3,car4,car5,car6]\n",
    "carreras"
   ]
  },
  {
   "cell_type": "code",
   "execution_count": 357,
   "metadata": {},
   "outputs": [
    {
     "data": {
      "text/plain": [
       "['De la Rosa Peredo Carla Guadalupe',\n",
       " 'Sánchez Figueroa Eduardo Francisco',\n",
       " 'Franco Almontes Gabriel Antonio',\n",
       " 'Avila Arredondo María José',\n",
       " 'Patiño Hernández Nancy Paola',\n",
       " 'Solano Román Osvaldo']"
      ]
     },
     "execution_count": 357,
     "metadata": {},
     "output_type": "execute_result"
    }
   ],
   "source": [
    "n1=\" \".join(a1[7:11])+\" \"+\" \".join(a1[5:7])\n",
    "n2=\" \".join(a2[5:9])\n",
    "n3=\" \".join(a3[7:9])+\" \"+\" \".join(a3[5:7])\n",
    "n4=\" \".join(a4[7:9])+\" \"+\" \".join(a4[5:7])\n",
    "n5=\" \".join(a5[7:9])+\" \"+\" \".join(a5[5:7])\n",
    "n6=\" \".join(a6[6:8])+\" \"+a6[5]\n",
    "nombres=[n1,n2,n3,n4,n5,n6]\n",
    "nombres"
   ]
  },
  {
   "cell_type": "code",
   "execution_count": 358,
   "metadata": {},
   "outputs": [
    {
     "data": {
      "text/plain": [
       "{'Nombre': ['De la Rosa Peredo Carla Guadalupe',\n",
       "  'Sánchez Figueroa Eduardo Francisco',\n",
       "  'Franco Almontes Gabriel Antonio',\n",
       "  'Avila Arredondo María José',\n",
       "  'Patiño Hernández Nancy Paola',\n",
       "  'Solano Román Osvaldo'],\n",
       " 'Correo': ['carla_delarosa15@ciencias.unam.mx',\n",
       "  'spaco964@gmail.com',\n",
       "  'gabrielonch1119@gmail.com',\n",
       "  'maryjoavila18@gmail.com',\n",
       "  'nancy.sud.89@gmail.com',\n",
       "  'oswasrjwcfree@gmail.com'],\n",
       " 'Carreras': ['Ciencias de la Tierra',\n",
       "  'Informática',\n",
       "  'Ingenieria Geofísica',\n",
       "  'Ingeniería de Minas y Metalurgia',\n",
       "  'Ingeniería Geológica',\n",
       "  'ING. Geomática'],\n",
       " 'FyH': ['2019/11/29 11:16:19 a.m.',\n",
       "  '2019/11/30 6:08:52 p.m.',\n",
       "  '2019/11/30 6:10:11 p.m.',\n",
       "  '2019/11/30 6:11:50 p.m.',\n",
       "  '2019/11/30 6:11:50 p.m.',\n",
       "  '2019/11/30 6:15:59 p.m.']}"
      ]
     },
     "execution_count": 358,
     "metadata": {},
     "output_type": "execute_result"
    }
   ],
   "source": [
    "alumnos={\"Nombre\":nombres,\"Correo\":correos,\"Carreras\":carreras,\"FyH\":horas}\n",
    "alumnos"
   ]
  },
  {
   "cell_type": "markdown",
   "metadata": {},
   "source": [
    "¿De qué me sirve tener un tonto diccionario?"
   ]
  },
  {
   "cell_type": "code",
   "execution_count": 359,
   "metadata": {},
   "outputs": [
    {
     "data": {
      "text/html": [
       "<div>\n",
       "<style scoped>\n",
       "    .dataframe tbody tr th:only-of-type {\n",
       "        vertical-align: middle;\n",
       "    }\n",
       "\n",
       "    .dataframe tbody tr th {\n",
       "        vertical-align: top;\n",
       "    }\n",
       "\n",
       "    .dataframe thead th {\n",
       "        text-align: right;\n",
       "    }\n",
       "</style>\n",
       "<table border=\"1\" class=\"dataframe\">\n",
       "  <thead>\n",
       "    <tr style=\"text-align: right;\">\n",
       "      <th></th>\n",
       "      <th>Nombre</th>\n",
       "      <th>Correo</th>\n",
       "      <th>Carreras</th>\n",
       "      <th>FyH</th>\n",
       "    </tr>\n",
       "  </thead>\n",
       "  <tbody>\n",
       "    <tr>\n",
       "      <th>0</th>\n",
       "      <td>De la Rosa Peredo Carla Guadalupe</td>\n",
       "      <td>carla_delarosa15@ciencias.unam.mx</td>\n",
       "      <td>Ciencias de la Tierra</td>\n",
       "      <td>2019/11/29 11:16:19 a.m.</td>\n",
       "    </tr>\n",
       "    <tr>\n",
       "      <th>1</th>\n",
       "      <td>Sánchez Figueroa Eduardo Francisco</td>\n",
       "      <td>spaco964@gmail.com</td>\n",
       "      <td>Informática</td>\n",
       "      <td>2019/11/30 6:08:52 p.m.</td>\n",
       "    </tr>\n",
       "    <tr>\n",
       "      <th>2</th>\n",
       "      <td>Franco Almontes Gabriel Antonio</td>\n",
       "      <td>gabrielonch1119@gmail.com</td>\n",
       "      <td>Ingenieria Geofísica</td>\n",
       "      <td>2019/11/30 6:10:11 p.m.</td>\n",
       "    </tr>\n",
       "    <tr>\n",
       "      <th>3</th>\n",
       "      <td>Avila Arredondo María José</td>\n",
       "      <td>maryjoavila18@gmail.com</td>\n",
       "      <td>Ingeniería de Minas y Metalurgia</td>\n",
       "      <td>2019/11/30 6:11:50 p.m.</td>\n",
       "    </tr>\n",
       "    <tr>\n",
       "      <th>4</th>\n",
       "      <td>Patiño Hernández Nancy Paola</td>\n",
       "      <td>nancy.sud.89@gmail.com</td>\n",
       "      <td>Ingeniería Geológica</td>\n",
       "      <td>2019/11/30 6:11:50 p.m.</td>\n",
       "    </tr>\n",
       "    <tr>\n",
       "      <th>5</th>\n",
       "      <td>Solano Román Osvaldo</td>\n",
       "      <td>oswasrjwcfree@gmail.com</td>\n",
       "      <td>ING. Geomática</td>\n",
       "      <td>2019/11/30 6:15:59 p.m.</td>\n",
       "    </tr>\n",
       "  </tbody>\n",
       "</table>\n",
       "</div>"
      ],
      "text/plain": [
       "                               Nombre                             Correo  \\\n",
       "0   De la Rosa Peredo Carla Guadalupe  carla_delarosa15@ciencias.unam.mx   \n",
       "1  Sánchez Figueroa Eduardo Francisco                 spaco964@gmail.com   \n",
       "2     Franco Almontes Gabriel Antonio          gabrielonch1119@gmail.com   \n",
       "3          Avila Arredondo María José            maryjoavila18@gmail.com   \n",
       "4        Patiño Hernández Nancy Paola             nancy.sud.89@gmail.com   \n",
       "5                Solano Román Osvaldo            oswasrjwcfree@gmail.com   \n",
       "\n",
       "                           Carreras                       FyH  \n",
       "0             Ciencias de la Tierra  2019/11/29 11:16:19 a.m.  \n",
       "1                       Informática   2019/11/30 6:08:52 p.m.  \n",
       "2              Ingenieria Geofísica   2019/11/30 6:10:11 p.m.  \n",
       "3  Ingeniería de Minas y Metalurgia   2019/11/30 6:11:50 p.m.  \n",
       "4              Ingeniería Geológica   2019/11/30 6:11:50 p.m.  \n",
       "5                    ING. Geomática   2019/11/30 6:15:59 p.m.  "
      ]
     },
     "execution_count": 359,
     "metadata": {},
     "output_type": "execute_result"
    }
   ],
   "source": [
    "import pandas as pd\n",
    "alu=pd.DataFrame(alumnos)\n",
    "alu"
   ]
  },
  {
   "cell_type": "markdown",
   "metadata": {},
   "source": [
    "Vamos a subirle el nivel dos rayitas...\n",
    "\n",
    "# Estructuras de control (Tema 3)"
   ]
  },
  {
   "cell_type": "markdown",
   "metadata": {},
   "source": [
    "* ### Ciclos For\n",
    "\n",
    "    Recorren un objeto iterable, como una lista, una tupla o un generador, y por cada elemento del iterable ejecuta el bloque de código interno. Se define con la palabra clave *for* seguida de un nombre de variable, seguido de *in*, seguido del iterable, y finalmente el bloque de código interno. En cada iteración, el elemento siguiente del iterable se asigna al nombre de variable especificado"
   ]
  },
  {
   "cell_type": "code",
   "execution_count": 113,
   "metadata": {},
   "outputs": [
    {
     "name": "stdout",
     "output_type": "stream",
     "text": [
      "1\n",
      "2\n",
      "3\n",
      "4\n",
      "5\n"
     ]
    }
   ],
   "source": [
    "for i in range(5): # teniendo range(n) el bucle va de 0 a n-1\n",
    "    print(i+1)"
   ]
  },
  {
   "cell_type": "code",
   "execution_count": 107,
   "metadata": {},
   "outputs": [
    {
     "data": {
      "text/plain": [
       "['P', 'y', 't', 'h', 'o', 'n']"
      ]
     },
     "execution_count": 107,
     "metadata": {},
     "output_type": "execute_result"
    }
   ],
   "source": [
    "l"
   ]
  },
  {
   "cell_type": "code",
   "execution_count": 109,
   "metadata": {},
   "outputs": [
    {
     "name": "stdout",
     "output_type": "stream",
     "text": [
      "P\n",
      "y\n",
      "t\n",
      "h\n",
      "o\n",
      "n\n"
     ]
    }
   ],
   "source": [
    "for a in l:\n",
    "    print(a)"
   ]
  },
  {
   "cell_type": "markdown",
   "metadata": {},
   "source": [
    "Función __zip()__ toma como argumento dos o más objetos iterables (idealmente cada uno de ellos con la misma cantidad de elementos) y retorna un nuevo iterable cuyos elementos son tuplas que contienen un elemento de cada uno de los iteradores originales."
   ]
  },
  {
   "cell_type": "code",
   "execution_count": 112,
   "metadata": {},
   "outputs": [
    {
     "name": "stdout",
     "output_type": "stream",
     "text": [
      "0 P\n",
      "1 y\n",
      "2 t\n",
      "3 h\n",
      "4 o\n",
      "5 n\n"
     ]
    }
   ],
   "source": [
    "for i,a in zip(range(len(l)),l):\n",
    "    print(i,a)"
   ]
  },
  {
   "cell_type": "markdown",
   "metadata": {},
   "source": [
    "* ## Ciclos While\n",
    "    El bucle while evalúa una condición y, si es verdadera, ejecuta el bloque de código interno. Continúa evaluando y ejecutando mientras la condición sea verdadera. Se define con la palabra clave while seguida de la condición, y a continuación el bloque de código interno"
   ]
  },
  {
   "cell_type": "code",
   "execution_count": 115,
   "metadata": {},
   "outputs": [
    {
     "name": "stdout",
     "output_type": "stream",
     "text": [
      "1\n",
      "2\n",
      "3\n",
      "4\n",
      "5\n",
      "6\n",
      "7\n",
      "8\n",
      "9\n",
      "10\n"
     ]
    }
   ],
   "source": [
    "x=0\n",
    "while x<10:\n",
    "    x+=1\n",
    "    print(x)"
   ]
  },
  {
   "cell_type": "markdown",
   "metadata": {},
   "source": [
    "* ## Condicionales"
   ]
  },
  {
   "cell_type": "code",
   "execution_count": 119,
   "metadata": {},
   "outputs": [
    {
     "name": "stdin",
     "output_type": "stream",
     "text": [
      "Ingresa un número:  -8\n"
     ]
    },
    {
     "name": "stdout",
     "output_type": "stream",
     "text": [
      "Tu número es negativo\n"
     ]
    }
   ],
   "source": [
    "y=float(input(\"Ingresa un número: \"))\n",
    "\n",
    "if y==0:\n",
    "    print(\"Tu número es cero\") \n",
    "    \n",
    "elif y>0:\n",
    "    print(\"Tu número es postivo\")\n",
    "    \n",
    "else:\n",
    "    print(\"Tu número es negativo\")"
   ]
  },
  {
   "cell_type": "markdown",
   "metadata": {},
   "source": [
    "* ## Listas de comprension\n",
    "    Una lista por comprensión (en inglés: list comprehension) es una expresión compacta para definir listas. "
   ]
  },
  {
   "cell_type": "markdown",
   "metadata": {},
   "source": [
    "Supongamos que queremos crear un vector con el cuadrado de los elementos en g, se me ocurren tres formas de hacerlo:"
   ]
  },
  {
   "cell_type": "code",
   "execution_count": 129,
   "metadata": {},
   "outputs": [
    {
     "ename": "TypeError",
     "evalue": "unsupported operand type(s) for ** or pow(): 'list' and 'int'",
     "output_type": "error",
     "traceback": [
      "\u001b[0;31m---------------------------------------------------------------------------\u001b[0m",
      "\u001b[0;31mTypeError\u001b[0m                                 Traceback (most recent call last)",
      "\u001b[0;32m<ipython-input-129-2482b3ef9d06>\u001b[0m in \u001b[0;36m<module>\u001b[0;34m\u001b[0m\n\u001b[1;32m      3\u001b[0m \u001b[0mg\u001b[0m\u001b[0;34m=\u001b[0m\u001b[0;34m[\u001b[0m\u001b[0;36m1\u001b[0m\u001b[0;34m,\u001b[0m\u001b[0;36m2\u001b[0m\u001b[0;34m,\u001b[0m\u001b[0;36m3\u001b[0m\u001b[0;34m,\u001b[0m\u001b[0;36m4\u001b[0m\u001b[0;34m,\u001b[0m\u001b[0;36m5\u001b[0m\u001b[0;34m,\u001b[0m\u001b[0;36m6\u001b[0m\u001b[0;34m,\u001b[0m\u001b[0;36m7\u001b[0m\u001b[0;34m,\u001b[0m\u001b[0;36m8\u001b[0m\u001b[0;34m,\u001b[0m\u001b[0;36m9\u001b[0m\u001b[0;34m,\u001b[0m\u001b[0;36m10\u001b[0m\u001b[0;34m]\u001b[0m\u001b[0;34m\u001b[0m\u001b[0;34m\u001b[0m\u001b[0m\n\u001b[1;32m      4\u001b[0m \u001b[0;34m\u001b[0m\u001b[0m\n\u001b[0;32m----> 5\u001b[0;31m \u001b[0mg\u001b[0m\u001b[0;34m**\u001b[0m\u001b[0;36m2\u001b[0m\u001b[0;34m\u001b[0m\u001b[0;34m\u001b[0m\u001b[0m\n\u001b[0m",
      "\u001b[0;31mTypeError\u001b[0m: unsupported operand type(s) for ** or pow(): 'list' and 'int'"
     ]
    }
   ],
   "source": [
    "# No es opción\n",
    "\n",
    "g=[1,2,3,4,5,6,7,8,9,10]\n",
    "\n",
    "g**2"
   ]
  },
  {
   "cell_type": "code",
   "execution_count": 130,
   "metadata": {},
   "outputs": [
    {
     "data": {
      "text/plain": [
       "[1, 4, 9, 16, 25, 36, 49, 64, 81, 100]"
      ]
     },
     "execution_count": 130,
     "metadata": {},
     "output_type": "execute_result"
    }
   ],
   "source": [
    "# Opción 1\n",
    "\n",
    "gc=[1**2,2**2,3**2,4**2,5**2,6**2,7**2,8**2,9**2,10**2]\n",
    "gc"
   ]
  },
  {
   "cell_type": "code",
   "execution_count": 144,
   "metadata": {},
   "outputs": [
    {
     "data": {
      "text/plain": [
       "[1, 4, 9, 16, 25, 36, 49, 64, 81, 100]"
      ]
     },
     "execution_count": 144,
     "metadata": {},
     "output_type": "execute_result"
    }
   ],
   "source": [
    "# Opción 2\n",
    "\n",
    "gc=[]\n",
    "\n",
    "for v in g:\n",
    "    gc.append(v**2)\n",
    "\n",
    "gc"
   ]
  },
  {
   "cell_type": "code",
   "execution_count": 145,
   "metadata": {},
   "outputs": [
    {
     "data": {
      "text/plain": [
       "[1, 4, 9, 16, 25, 36, 49, 64, 81, 100]"
      ]
     },
     "execution_count": 145,
     "metadata": {},
     "output_type": "execute_result"
    }
   ],
   "source": [
    "# Opción 3  LA FAVORITA\n",
    "\n",
    "gc=[v**2 for v in g]\n",
    "gc"
   ]
  },
  {
   "cell_type": "markdown",
   "metadata": {},
   "source": [
    "¿Por qué usar listas de comprension? Vámonos al extremo"
   ]
  },
  {
   "cell_type": "code",
   "execution_count": 148,
   "metadata": {},
   "outputs": [
    {
     "name": "stdout",
     "output_type": "stream",
     "text": [
      "CPU times: user 70.6 ms, sys: 8.43 ms, total: 79.1 ms\n",
      "Wall time: 81.5 ms\n"
     ]
    }
   ],
   "source": [
    "%%time\n",
    "\n",
    "gc=[]\n",
    "\n",
    "for v in range(1,100000):\n",
    "    gc.append(v**2)"
   ]
  },
  {
   "cell_type": "code",
   "execution_count": 149,
   "metadata": {},
   "outputs": [
    {
     "name": "stdout",
     "output_type": "stream",
     "text": [
      "CPU times: user 48.9 ms, sys: 5.33 ms, total: 54.2 ms\n",
      "Wall time: 57.7 ms\n"
     ]
    }
   ],
   "source": [
    "%%time\n",
    "gc=[v**2 for v in range(1,100000)] #Son más rapidas!!"
   ]
  },
  {
   "cell_type": "markdown",
   "metadata": {},
   "source": [
    "## INPUT por usuario"
   ]
  },
  {
   "cell_type": "code",
   "execution_count": 31,
   "metadata": {},
   "outputs": [
    {
     "name": "stdin",
     "output_type": "stream",
     "text": [
      "Ingrese un número 3\n"
     ]
    },
    {
     "name": "stdout",
     "output_type": "stream",
     "text": [
      "3\n",
      "<class 'str'>\n"
     ]
    }
   ],
   "source": [
    "a=input('Ingrese un número')\n",
    "print(a)\n",
    "print(type(a))"
   ]
  },
  {
   "cell_type": "code",
   "execution_count": 32,
   "metadata": {},
   "outputs": [
    {
     "name": "stdin",
     "output_type": "stream",
     "text": [
      "Ingrese un número 3\n"
     ]
    },
    {
     "name": "stdout",
     "output_type": "stream",
     "text": [
      "3\n",
      "<class 'int'>\n"
     ]
    }
   ],
   "source": [
    "a=int(input('Ingrese un número'))\n",
    "print(a)\n",
    "print(type(a))"
   ]
  },
  {
   "cell_type": "code",
   "execution_count": 47,
   "metadata": {},
   "outputs": [
    {
     "name": "stdin",
     "output_type": "stream",
     "text": [
      "Ingrese un número:  3\n",
      "Ingrese un número:  4\n",
      "Ingrese un número:  5\n"
     ]
    },
    {
     "data": {
      "text/plain": [
       "[3, 4, 5]"
      ]
     },
     "execution_count": 47,
     "metadata": {},
     "output_type": "execute_result"
    }
   ],
   "source": [
    "a=int(input('Ingrese un número: '))\n",
    "b=int(input('Ingrese un número: '))\n",
    "c=int(input('Ingrese un número: '))\n",
    "ls=[a,b,c]\n",
    "ls"
   ]
  },
  {
   "cell_type": "code",
   "execution_count": 49,
   "metadata": {},
   "outputs": [
    {
     "name": "stdin",
     "output_type": "stream",
     "text": [
      "Ingrese tres numeros separados por un espacio:  3 4 5\n"
     ]
    },
    {
     "data": {
      "text/plain": [
       "['3', '4', '5']"
      ]
     },
     "execution_count": 49,
     "metadata": {},
     "output_type": "execute_result"
    }
   ],
   "source": [
    "nm=input('Ingrese tres numeros separados por un espacio: ')\n",
    "nm=nm.split(\" \")\n",
    "nm"
   ]
  },
  {
   "cell_type": "code",
   "execution_count": 50,
   "metadata": {},
   "outputs": [
    {
     "data": {
      "text/plain": [
       "[3, 4, 5]"
      ]
     },
     "execution_count": 50,
     "metadata": {},
     "output_type": "execute_result"
    }
   ],
   "source": [
    "[int(i) for i in nm]"
   ]
  },
  {
   "cell_type": "code",
   "execution_count": 51,
   "metadata": {},
   "outputs": [
    {
     "name": "stdin",
     "output_type": "stream",
     "text": [
      "Ingrese un número:  3\n",
      "Ingrese un número:  4\n",
      "Ingrese un número:  5\n"
     ]
    },
    {
     "data": {
      "text/plain": [
       "[3, 4, 5]"
      ]
     },
     "execution_count": 51,
     "metadata": {},
     "output_type": "execute_result"
    }
   ],
   "source": [
    "ls=[]\n",
    "for i in range(3):\n",
    "    ls.append(int(input('Ingrese un número: ')))\n",
    "\n",
    "ls"
   ]
  },
  {
   "cell_type": "markdown",
   "metadata": {},
   "source": [
    "## Excepciones\n",
    "[+info](https://docs.python.org/3/tutorial/errors.html)"
   ]
  },
  {
   "cell_type": "code",
   "execution_count": 4,
   "metadata": {},
   "outputs": [
    {
     "name": "stdin",
     "output_type": "stream",
     "text": [
      "Ingrese un número:  4\n",
      "Ingrese un número:  0\n"
     ]
    },
    {
     "name": "stdout",
     "output_type": "stream",
     "text": [
      "La divisíon de cualquier número entre cero es indeterminada. Intente de nuevo\n"
     ]
    }
   ],
   "source": [
    "a=input(\"Ingrese un número: \")\n",
    "b=input(\"Ingrese un número: \")\n",
    "\n",
    "try:\n",
    "    print(\"La división de \"+str(a)+\" entre \"+str(b)+\" es: \"+str(float(a)/float(b)))\n",
    "    \n",
    "except:\n",
    "    print(\"La divisíon de cualquier número entre cero es indeterminada. Intente de nuevo.\")"
   ]
  },
  {
   "cell_type": "code",
   "execution_count": 7,
   "metadata": {},
   "outputs": [
    {
     "name": "stdin",
     "output_type": "stream",
     "text": [
      "Ingrese un número:  3\n",
      "Ingrese un número:  a\n"
     ]
    },
    {
     "name": "stdout",
     "output_type": "stream",
     "text": [
      "Asegurate de haber ingresado un NÚMERO\n"
     ]
    }
   ],
   "source": [
    "a=input(\"Ingrese un número: \")\n",
    "b=input(\"Ingrese un número: \")\n",
    "\n",
    "try:\n",
    "    print(\"La división de \"+str(a)+\" entre \"+str(b)+\" es: \"+str(float(a)/float(b)))\n",
    "    \n",
    "except ValueError:\n",
    "    print(\"Asegurate de haber ingresado un NÚMERO\")\n",
    "    \n",
    "except ZeroDivisionError:\n",
    "    print(\"La divisíon de cualquier número entre cero es indeterminada. Intente de nuevo.\")\n",
    "    "
   ]
  },
  {
   "cell_type": "markdown",
   "metadata": {},
   "source": [
    "# Ejercicios"
   ]
  },
  {
   "cell_type": "markdown",
   "metadata": {},
   "source": [
    "Escribe un programa que lea tres enteros a, b, c y determine si c se encuentra en el intervalo [a,b] a la izquierda o a la derecha del intervalo [a,b].\n",
    "\n",
    "**Entrada:**\n",
    "\n",
    "Una línea con los enteros a,b,c separados por un espacio\n",
    "\n",
    "**Salida:**\n",
    "\n",
    "Imprime INTERVALO, IZQUIERDA o DERECHA según sea el caso."
   ]
  },
  {
   "cell_type": "code",
   "execution_count": null,
   "metadata": {},
   "outputs": [],
   "source": [
    "for i in range(1,1001):\n",
    "\tif (i%3==0) and (i%5!=0):\n",
    "\t\t#print(\"Fizz\")\n",
    "\telif (i%5==0) and (i%3!=0):\n",
    "\t\t#print(\"Buzz\")\n",
    "\telif (i%3==0) and (i%5==0):\n",
    "\t\t#print(\"FizzBuzz\")\n",
    "\telse:\n",
    "\t\t#print(i)"
   ]
  },
  {
   "cell_type": "markdown",
   "metadata": {},
   "source": [
    "Escribe un programa que lea tres enteros a, b, c y determine si c se encuentra en el intervalo [a,b] a la izquierda o a la derecha del intervalo [a,b].\n",
    "\n",
    "**Entrada:**\n",
    "Una línea con los enteros a,b,c separados por un espacio\n",
    "\n",
    "**Salida:**\n",
    "Imprime INTERVALO, IZQUIERDA o DERECHA según sea el caso."
   ]
  },
  {
   "cell_type": "code",
   "execution_count": 52,
   "metadata": {},
   "outputs": [
    {
     "data": {
      "text/plain": [
       "-3.5"
      ]
     },
     "execution_count": 52,
     "metadata": {},
     "output_type": "execute_result"
    }
   ],
   "source": [
    "6%3-9/4*2+1"
   ]
  },
  {
   "cell_type": "code",
   "execution_count": null,
   "metadata": {},
   "outputs": [],
   "source": [
    "ls=input(\"Ingrese a,b,c: \")\n",
    "ls=ls.split(\" \")\n",
    "a,b,c=int(ls[0]),int(ls[1]),int(ls[2])\n",
    "\n",
    "if c>=a:\n",
    "    if c<=b:\n",
    "        print(\"INTERVALO\")\n",
    "    else:\n",
    "        print(\"DERECHA\")\n",
    "else:\n",
    "    print(\"IZQUIERDA\")"
   ]
  },
  {
   "cell_type": "markdown",
   "metadata": {},
   "source": [
    "### Del Google CodeJam:\n",
    "There are N houses for sale. The i-th house costs Ai dollars to buy. You have a budget of B dollars to spend.\n",
    "What is the maximum number of houses you can buy?\n",
    "\n",
    "#### Input\n",
    "The first line of the input gives the number of test cases, T. T test cases follow. Each test case begins with a single line containing the two integers N and B. The second line contains N integers. The i-th integer is Ai, the cost of the i-th house.\n",
    "\n",
    "3\n",
    "\n",
    "4 100\n",
    "\n",
    "20 90 40 90\n",
    "\n",
    "\n",
    "4 50\n",
    "\n",
    "30 30 10 10\n",
    "\n",
    "\n",
    "3 300\n",
    "\n",
    "999 999 999\n",
    "\n",
    "#### Output\n",
    "\n",
    "For each test case, output one line containing Case #x: y, where x is the test case number (starting from 1) and y is the maximum number of houses you can buy.\n",
    "\n",
    "Case #1: 2\n",
    "\n",
    "Case #2: 3\n",
    "\n",
    "Case #3: 0"
   ]
  },
  {
   "cell_type": "code",
   "execution_count": null,
   "metadata": {},
   "outputs": [],
   "source": [
    "c=int(input()) \n",
    "\n",
    "for i in range(c):\n",
    "    \n",
    "    b=[int(x) for x in input().split()][1]\n",
    "    ls=[int(x) for x in input().split()]\n",
    "    \n",
    "    ls.sort()\n",
    "    \n",
    "    if ls[0]>b:\n",
    "        k=1\n",
    "    else:\n",
    "        k=2\n",
    "        s=b-1\n",
    "        while s<=b:\n",
    "            s=sum(ls[:k])\n",
    "            if s<=b:\n",
    "                k+=1\n",
    "            else:\n",
    "                k+=0\n",
    "            \n",
    "        \n",
    "    print (\"Case #\"+str(i+1)+\": \"+str(k-1))"
   ]
  },
  {
   "cell_type": "markdown",
   "metadata": {},
   "source": [
    "1.- Verifique que el área debajo de la función de distribución normal, tiende a 1 \n",
    "\n",
    "<center>$\\frac{1}{\\sigma\\sqrt{2\\pi}}\\int\\limits_{-\\infty}^{\\infty}e^{-\\frac{(x-\\mu)^2}{2\\sigma^2}}=1$<center>\n",
    "\n",
    "Considere $N\\sim (0,1)$\n",
    "    \n",
    "Recordando el método del trapecio:\n",
    "<center>$\\int\\limits_{x_0}^{x_n}f(x)\\approx\\frac{h}{2}\\left[f(x_0)+2\\sum_{i=1}^{n-1} f(x_i)+f(x_n)\\right]$<center> \n",
    "    \n",
    "Donde:   $h=\\frac{x_n-x_0}{n}$\n",
    "    "
   ]
  },
  {
   "cell_type": "code",
   "execution_count": 8,
   "metadata": {},
   "outputs": [],
   "source": [
    "import math as m\n",
    "\n",
    "ev=[]\n",
    "t=-100\n",
    "while t<100:\n",
    "    t+=.1\n",
    "    ev.append(t)"
   ]
  },
  {
   "cell_type": "code",
   "execution_count": 23,
   "metadata": {},
   "outputs": [],
   "source": [
    "dom=[((1/m.sqrt(2*m.pi))*(m.e**(-(x**2)/(2)))) for x in ev]"
   ]
  },
  {
   "cell_type": "code",
   "execution_count": 24,
   "metadata": {},
   "outputs": [
    {
     "data": {
      "text/plain": [
       "10.000000000000002"
      ]
     },
     "execution_count": 24,
     "metadata": {},
     "output_type": "execute_result"
    }
   ],
   "source": [
    "s=0\n",
    "p=dom[1:-1]\n",
    "for i in range(len(p)):\n",
    "    s+=p[i]\n",
    "s"
   ]
  },
  {
   "cell_type": "code",
   "execution_count": 25,
   "metadata": {},
   "outputs": [
    {
     "data": {
      "text/plain": [
       "10.000000000000002"
      ]
     },
     "execution_count": 25,
     "metadata": {},
     "output_type": "execute_result"
    }
   ],
   "source": [
    "s=sum(dom[1:-1])\n",
    "s"
   ]
  },
  {
   "cell_type": "code",
   "execution_count": 26,
   "metadata": {},
   "outputs": [
    {
     "data": {
      "text/plain": [
       "0.9995002498750486"
      ]
     },
     "execution_count": 26,
     "metadata": {},
     "output_type": "execute_result"
    }
   ],
   "source": [
    "h=(ev[-1]-ev[0])/len(ev)\n",
    "res=(h/2)*(dom[0]+dom[-1]+2*s)\n",
    "res"
   ]
  },
  {
   "cell_type": "code",
   "execution_count": 255,
   "metadata": {},
   "outputs": [
    {
     "data": {
      "image/png": "[encoded data removed]",
      "text/plain": [
       "<Figure size 1600x600 with 1 Axes>"
      ]
     },
     "metadata": {},
     "output_type": "display_data"
    }
   ],
   "source": [
    "import matplotlib.pyplot as plt\n",
    "plt.style.use('dark_background')\n",
    "plt.figure(figsize=(8,3),dpi=200)\n",
    "plt.plot(ev,dom,linewidth=2)\n",
    "plt.fill_between(ev,dom,alpha=.2,color='coral')\n",
    "plt.title(\"Área bajo la curva\",fontsize=20,pad=10)\n",
    "plt.xlabel(\"X\",fontsize=13,labelpad=10)\n",
    "plt.ylabel(\"Y\",fontsize=13,labelpad=10)\n",
    "plt.xticks(fontsize=8)\n",
    "plt.yticks(fontsize=8)\n",
    "plt.xlim(-4,4)\n",
    "plt.text(-3.45,.3,\"Área aproximada: \"+str(round(res,6))+\"$u^2$\",fontsize=8);"
   ]
  },
  {
   "cell_type": "markdown",
   "metadata": {},
   "source": [
    "2.- Cuenta cuantas vocales hay en el siguiente rolón ¿Cuantas hay de cada una?"
   ]
  },
  {
   "cell_type": "code",
   "execution_count": 266,
   "metadata": {},
   "outputs": [],
   "source": [
    "reb=\"\"\"Mamarre, mamarre, mamarre, mamarre\n",
    "Como lo mueve esa muchachota\n",
    "Metiéndole al dembow es que se bota\n",
    "Y yo postia'o aquí con esta nota\n",
    "La miro y rebota, rebota, rebota, rebota\n",
    "Como lo mueve esa muchachita\n",
    "Le mete al dembow y no se quita\n",
    "Yo tengo el ritmo que la debilita\n",
    "Ella tiene nalga y tetita, nalga y tetita\n",
    "Uh, ya tienes 18, entonces 'tás en ley\n",
    "Quiero acampar en tu' montaña' de Cayey\n",
    "Que libraste a los 16 (wow), OK\n",
    "Andamo' en el dembow con el fucking Charlee Way, ey\n",
    "Es que tú ere' una maldita desgraciá'\n",
    "Como dice Celica Cruz con la bemba colora'\n",
    "Me tienes sudando frío, no quiero mirar más na'\n",
    "Y se le marca el camel toe a la condena'\n",
    "Hija 'el Diablo, Dios te reprenda\n",
    "Te vo'a decir algo y yo quiero que me lo entiendas\n",
    "Yo te vo'a hablar claro, mami, no es pa' que te ofendas\n",
    "Pero por ti, que me jodan asume y Hacienda\n",
    "Y es que, no sé, chica, y yo acá pensando\n",
    "¿Por qué no mejor ya de vez en cuando? (Claro)\n",
    "Empezamos tú y yo a estar procreando\n",
    "Porque aquí me tienes mirando, mirando y mirando\n",
    "Cómo lo mueve esa muchachota\n",
    "Metiéndole al dembow es que se bota\n",
    "Y yo postia'o aquí con esta nota\n",
    "La miro y rebota, rebota, rebota, rebota\n",
    "Como lo mueve esa muchachita\n",
    "Le mete al dembow y no se quita\n",
    "Yo tengo el ritmo que la debilita\n",
    "Ella tiene nalga y tetita, nalga y tetita\n",
    "Tú jugabas voleibol o tú eras atleta\n",
    "Porque tienes la góndola 'e muslos y la de chuleta\n",
    "De la cintura al tobillo, ya me tienes el martillo\n",
    "Saliéndose a ver que es lo qué es lo que pasa por el calzoncillo\n",
    "Bájale, mami, como 7, 500\n",
    "Me tienes en estado de aborrecimiento\n",
    "Si tú me das un break, yo te voy a hacer un cuento\n",
    "Quieres conocer a Junito, yo te lo presento (Ma')\n",
    "Marrayo parta que presión\n",
    "Cómo se le marca el pantalón\n",
    "De la camisa, le explota el botón\n",
    "Y por ti, yo voy con los suegros a Guavate a comer lechón\n",
    "Hija 'el Diablo, Dios te reprenda\n",
    "Te vo'a decir algo y yo quiero que me lo entiendas\n",
    "Yo te vo'a hablar claro, mami, no es pa' que te ofendas\n",
    "Pero por ti, que me jodan asume y Hacienda\n",
    "Cómo lo mueve esa muchachota (Prr)\n",
    "Metiéndole al dembow es que se bota\n",
    "Y yo postia'o aquí con esta nota\n",
    "La miro y rebota, rebota, rebota, rebota\n",
    "Cómo lo mueve esa muchachita (¿Qué?)\n",
    "Le mete al dembow y no se quita\n",
    "Yo tengo el ritmo que la debilita (El Diablo)\n",
    "Ella tiene nalga y tetita, nalga y tetita\n",
    "Como lo mueve esa muchachota (Oh yeah)\n",
    "Metiéndole al dembow es que se bota (Unbelievable)\n",
    "Y yo postia'o aquí con esta nota\n",
    "La miro y rebota, rebota, rebota, rebotan\n",
    "Cómo lo mueve esa muchachita (Ay qué bonita)\n",
    "Le mete al dembow y no se quita (La muchachita)\n",
    "Yo tengo el ritmo que la debilita\n",
    "Ella tiene nalga y tetita, nalga y tetita (Ella tiene, ella tiene chichi)\n",
    "Esto quedó fino, Kino (El Guaynabichy)\n",
    "Dante La Movie\n",
    "Charlee Way\n",
    "El Guayna-uayna-uayna-uayna-uayna-uaynabichy\n",
    "El Guaynaa\n",
    "El slogan que no puede fallar\n",
    "Pa' que vayan pa' la discoteca a menear el menor\n",
    "El shorty, shorty, shorty\n",
    "El shorty, shorty, shorty\n",
    "Mamarre, mamarre, mamarre, mamarre\"\"\""
   ]
  },
  {
   "cell_type": "code",
   "execution_count": 271,
   "metadata": {},
   "outputs": [],
   "source": [
    "reb=reb.lower()\n",
    "voc=[]\n",
    "\n",
    "for l in reb:\n",
    "    if (l=='a' or l=='e' or l=='i' or l=='o' or l=='u'):\n",
    "        voc.append(l)"
   ]
  },
  {
   "cell_type": "code",
   "execution_count": 274,
   "metadata": {},
   "outputs": [],
   "source": [
    "voc=[l for l in reb if (l=='a' or l=='e' or l=='i' or l=='o' or l=='u')]"
   ]
  },
  {
   "cell_type": "code",
   "execution_count": 273,
   "metadata": {},
   "outputs": [
    {
     "data": {
      "text/plain": [
       "1023"
      ]
     },
     "execution_count": 273,
     "metadata": {},
     "output_type": "execute_result"
    }
   ],
   "source": [
    "len(voc)"
   ]
  },
  {
   "cell_type": "code",
   "execution_count": 276,
   "metadata": {},
   "outputs": [],
   "source": [
    "na=0\n",
    "ne=0\n",
    "ni=0\n",
    "no=0\n",
    "nu=0\n",
    "\n",
    "for w in voc:\n",
    "    if w=='a':\n",
    "        na+=1\n",
    "    elif w=='e':\n",
    "        ne+=1\n",
    "    elif w=='i':\n",
    "        ni+=1  \n",
    "    elif w=='o':\n",
    "        no+=1\n",
    "    else:\n",
    "        nu+=1     "
   ]
  },
  {
   "cell_type": "code",
   "execution_count": 335,
   "metadata": {},
   "outputs": [
    {
     "name": "stdout",
     "output_type": "stream",
     "text": [
      "Hay 293 a's\n",
      "Hay 312 e's\n",
      "Hay 110 i's\n",
      "Hay 219 o's\n",
      "Hay 89 u's\n"
     ]
    }
   ],
   "source": [
    "print(\"Hay\",na,\"a's\")\n",
    "print(\"Hay\",ne,\"e's\")\n",
    "print(\"Hay\",ni,\"i's\")\n",
    "print(\"Hay\",no,\"o's\")\n",
    "print(\"Hay\",nu,\"u's\")"
   ]
  },
  {
   "cell_type": "code",
   "execution_count": 336,
   "metadata": {},
   "outputs": [
    {
     "name": "stdout",
     "output_type": "stream",
     "text": [
      "Hay 293 a's\n",
      "Hay 312 e's\n",
      "Hay 110 i's\n",
      "Hay 219 o's\n",
      "Hay 89 u's\n"
     ]
    }
   ],
   "source": [
    "# Más facil y rapido\n",
    "\n",
    "na=voc.count('a')\n",
    "ne=voc.count('e')\n",
    "ni=voc.count('i')\n",
    "no=voc.count('o')\n",
    "nu=voc.count('u')\n",
    "\n",
    "print(\"Hay\",na,\"a's\")\n",
    "print(\"Hay\",ne,\"e's\")\n",
    "print(\"Hay\",ni,\"i's\")\n",
    "print(\"Hay\",no,\"o's\")\n",
    "print(\"Hay\",nu,\"u's\")"
   ]
  },
  {
   "cell_type": "code",
   "execution_count": 333,
   "metadata": {},
   "outputs": [
    {
     "data": {
      "image/png": "[encoded data removed]",
      "text/plain": [
       "<Figure size 1200x450 with 1 Axes>"
      ]
     },
     "metadata": {},
     "output_type": "display_data"
    }
   ],
   "source": [
    "plt.figure(figsize=(8,3),dpi=150)\n",
    "plt.hist(voc,bins=5,ec='k',color='coral',density=True,alpha=.8)\n",
    "plt.xticks(ticks=[0.4,1.2,2,2.8,3.6],fontsize=17)\n",
    "plt.title(\"Vocales en $Rebota$\",fontsize=23)\n",
    "plt.ylabel(\"Probabilidad\",fontsize=15,labelpad=10)\n",
    "plt.text(2.7,.3,'Total de vocales: '+str(len(voc)));"
   ]
  },
  {
   "cell_type": "markdown",
   "metadata": {},
   "source": [
    "3.- Un canal trapecial excavado en tierra tiene un tirante $y=1.4m$, un talud $z=2$, una pendiente $S=0.0004$ y debe inducir un gasto de $8\\frac{m^3}{s}$.  Calcular el ancho de plantilla, b. Para este material el cofeciente de rugosidad es $n=0.020$ . Presente su resultado en un diccionario con b y %error como llaves.\n",
    "\n",
    "<img src=\"trap.png\" style=\"width: 300px;\"/>\n",
    "\n",
    "\n",
    "En hidráulica canales se define a la ecuación del gasto de Manning como sigue:\n",
    "\n",
    "\\begin{equation}\n",
    "Q=\\frac{1}{n}AR^{\\frac{2}{3}}_HS^{\\frac{1}{2}}...................(1)\n",
    "\\end{equation}\n",
    "    \n",
    "Donde: \n",
    "* $R_H\\rightarrow$ Radio hidráulico\n",
    "* $A\\rightarrow$ Área de la sección transversal\n",
    "\n",
    "En secciones trapeciales se tiene:\n",
    "* $A=\\left(by+zy^2\\right)$\n",
    "* $R_H=\\left(\\frac{by+zy^2}{b+2y\\sqrt{1+z^2}}\\right)^{\\frac{2}{3}}$\n",
    " \n",
    "Reescribiendo a la ecuación 1...\n",
    "\\begin{equation}\n",
    "\\frac{Qn}{S^{\\frac{1}{2}}}=AR_H^{\\frac{2}{3}}=\\left(by+zy^2\\right)\\left(\\frac{by+zy^2}{b+2y\\sqrt{1+z^2}}\\right)^{\\frac{2}{3}}\n",
    "\\end{equation}\n",
    "\n",
    "Dada la dificultad de despejar a $b$, lo mejor es emplear el método númerico de aproximaciones sucesivas. Por lo tanto, basta con despejar a alguna $b:$\n",
    "\n",
    "\\begin{equation}\n",
    "b=\\frac{Qn}{S^{\\frac{1}{2}}y\\left(\\frac{yb+zy}{b+2y\\sqrt{1+z^2}}\\right)^{\\frac{2}{3}}}-2y\n",
    "\\end{equation}\n",
    "\n",
    "Sabiendo que:\n",
    "* $y=1.4m$\n",
    "* $z=2$\n",
    "* $S=0.0004$\n",
    "* $Q=8\\frac{m^3}{s}$\n",
    "* $n=0.020$\n",
    "\n",
    "\\begin{equation}\n",
    "\\Longrightarrow b=\\frac{8}{1.4\\left(\\frac{1.4b+3.92}{b+6.261}\\right)^{\\frac{2}{3}}}-2.8\n",
    "\\end{equation}\n",
    "\n"
   ]
  },
  {
   "cell_type": "code",
   "execution_count": 344,
   "metadata": {},
   "outputs": [],
   "source": [
    "#Definimos nuestras variables\n",
    "\n",
    "q=8\n",
    "n=0.020\n",
    "s=0.0004\n",
    "z=2\n",
    "y=1.4\n",
    "\n",
    "b=1 #Valor inicial\n",
    "\n",
    "ar=(q*n)/((s)**(1/2))"
   ]
  },
  {
   "cell_type": "code",
   "execution_count": 345,
   "metadata": {},
   "outputs": [],
   "source": [
    "#Implementamos el método\n",
    "\n",
    "Plantilla=[]\n",
    "error=[]\n",
    "er=1\n",
    "while ((er>0.0000000001)):\n",
    "    Plantilla.append(round(b,3))\n",
    "    a=b\n",
    "    b=(((ar)/(y*((((b+z*y)*y)/(b+(2*y*m.sqrt(1+(z)**2))))**(2/3))))-(z*y))\n",
    "    er=m.fabs(((round(a,3)-round(b,3))/round(a,3))*100)\n",
    "    error.append(round(er,6))"
   ]
  },
  {
   "cell_type": "code",
   "execution_count": 349,
   "metadata": {},
   "outputs": [
    {
     "data": {
      "text/plain": [
       "{'b': [1, 4.231, 3.163, 3.395, 3.338, 3.352, 3.349],\n",
       " '%error': [323.1, 25.24226, 7.334809, 1.67894, 0.419413, 0.089499, 0.0]}"
      ]
     },
     "execution_count": 349,
     "metadata": {},
     "output_type": "execute_result"
    }
   ],
   "source": [
    "Res={\"b\":Plantilla,\"%error\":error}\n",
    "Res"
   ]
  },
  {
   "cell_type": "markdown",
   "metadata": {},
   "source": [
    "## Funciones\n",
    "Las funciones se definen con la palabra clave *def*, seguida del nombre de la función y sus __parámetros__. Otra forma de escribir funciones, aunque menos utilizada, es con la palabra clave *lambda*. El valor devuelto en las funciones con *def* será el dado con la instrucción __return__."
   ]
  },
  {
   "cell_type": "code",
   "execution_count": 11,
   "metadata": {},
   "outputs": [
    {
     "data": {
      "text/plain": [
       "1431.8912319027588"
      ]
     },
     "execution_count": 11,
     "metadata": {},
     "output_type": "execute_result"
    }
   ],
   "source": [
    "#Tradicional\n",
    "\n",
    "def ft(x):\n",
    "    y=(x**2)*m.cos(m.radians(x))\n",
    "    return y\n",
    "\n",
    "ft(45)"
   ]
  },
  {
   "cell_type": "code",
   "execution_count": 12,
   "metadata": {},
   "outputs": [
    {
     "data": {
      "text/plain": [
       "1431.8912319027588"
      ]
     },
     "execution_count": 12,
     "metadata": {},
     "output_type": "execute_result"
    }
   ],
   "source": [
    "#Lambda\n",
    "\n",
    "fl = lambda x:(x**2)*m.cos(m.radians(x))\n",
    "fl(45)"
   ]
  },
  {
   "cell_type": "markdown",
   "metadata": {},
   "source": [
    "Supongamos que queremos conocer la imagen de $[-1000,1000]$ de la función $f$, previamente definida. ¿Cómo le hacemos?"
   ]
  },
  {
   "cell_type": "markdown",
   "metadata": {},
   "source": [
    "### Funcióin $map()$\n",
    "Regresa una lista con los resultados de aplicar una función dada a cada elemento de un iterador dado"
   ]
  },
  {
   "cell_type": "code",
   "execution_count": 417,
   "metadata": {},
   "outputs": [
    {
     "data": {
      "text/plain": [
       "<map at 0x1201e63c8>"
      ]
     },
     "execution_count": 417,
     "metadata": {},
     "output_type": "execute_result"
    }
   ],
   "source": [
    "map(ft,range(-1000,1001)) #map(función,iterable), al aplicarlo dirctamente sólo me dice en que parte de la memoria vive"
   ]
  },
  {
   "cell_type": "code",
   "execution_count": 419,
   "metadata": {},
   "outputs": [
    {
     "data": {
      "text/plain": [
       "[173648.17766693124,\n",
       " 156121.7525446139,\n",
       " 138616.96524862855,\n",
       " 121139.22416880784,\n",
       " 103693.90801692268,\n",
       " 86286.3642137495,\n",
       " 68921.9072922509,\n",
       " 51605.8173173999,\n",
       " 34343.33832304886,\n",
       " 17139.676766333847,\n",
       " 1.080855357981809e-09]"
      ]
     },
     "execution_count": 419,
     "metadata": {},
     "output_type": "execute_result"
    }
   ],
   "source": [
    "#Hay que convertirlo a lista\n",
    "list(map(ft,range(-1000,1001)))[:11]"
   ]
  },
  {
   "cell_type": "code",
   "execution_count": 13,
   "metadata": {},
   "outputs": [],
   "source": [
    "def f1(a): #funcion tradicional\n",
    "    img1=[]\n",
    "    for i in range(-1000,1001):\n",
    "        img1.append(ft(i))\n",
    "    return img1\n",
    " \n",
    "def f2(a): #funcion lambda\n",
    "    img2=[]\n",
    "    for i in range(-1000,1001):\n",
    "        img2.append(fl(i))\n",
    "    return img2\n",
    "    \n",
    "def f3(a): #lista de comprension con lambda\n",
    "    img3=[fl(i) for i in range(-1000,1001)]\n",
    "    return img3\n",
    "\n",
    "def f4(a): #lista de comprension con funcion tradicional\n",
    "    img3=[ft(i) for i in range(-1000,1001)]\n",
    "    return img3\n",
    "\n",
    "def f5(a): #map con funcion tradicional\n",
    "    img=list(map(ft,range(-1000,1001)))\n",
    "    return img\n",
    "\n",
    "def f6(a): #map con lambda\n",
    "    img=list(map(fl,range(-1000,1001)))\n",
    "    return img"
   ]
  },
  {
   "cell_type": "code",
   "execution_count": 18,
   "metadata": {},
   "outputs": [
    {
     "name": "stdout",
     "output_type": "stream",
     "text": [
      "2.6 ms ± 334 µs per loop (mean ± std. dev. of 7 runs, 100 loops each)\n"
     ]
    }
   ],
   "source": [
    "%timeit f1(1) #funcion tradicional"
   ]
  },
  {
   "cell_type": "code",
   "execution_count": 19,
   "metadata": {},
   "outputs": [
    {
     "name": "stdout",
     "output_type": "stream",
     "text": [
      "2.86 ms ± 131 µs per loop (mean ± std. dev. of 7 runs, 100 loops each)\n"
     ]
    }
   ],
   "source": [
    "%timeit f2(1) #funcion lambda"
   ]
  },
  {
   "cell_type": "code",
   "execution_count": 20,
   "metadata": {},
   "outputs": [
    {
     "name": "stdout",
     "output_type": "stream",
     "text": [
      "2.24 ms ± 204 µs per loop (mean ± std. dev. of 7 runs, 1000 loops each)\n"
     ]
    }
   ],
   "source": [
    "%timeit f3(1) #lista de comprension con lambda"
   ]
  },
  {
   "cell_type": "code",
   "execution_count": 21,
   "metadata": {},
   "outputs": [
    {
     "name": "stdout",
     "output_type": "stream",
     "text": [
      "2 ms ± 200 µs per loop (mean ± std. dev. of 7 runs, 100 loops each)\n"
     ]
    }
   ],
   "source": [
    "%timeit f4(1) #lista de comprension con funcion tradicional"
   ]
  },
  {
   "cell_type": "code",
   "execution_count": 22,
   "metadata": {},
   "outputs": [
    {
     "name": "stdout",
     "output_type": "stream",
     "text": [
      "1.69 ms ± 101 µs per loop (mean ± std. dev. of 7 runs, 100 loops each)\n"
     ]
    }
   ],
   "source": [
    "%timeit f5(1) #map con funcion tradicional"
   ]
  },
  {
   "cell_type": "code",
   "execution_count": 23,
   "metadata": {},
   "outputs": [
    {
     "name": "stdout",
     "output_type": "stream",
     "text": [
      "1.77 ms ± 112 µs per loop (mean ± std. dev. of 7 runs, 1000 loops each)\n"
     ]
    }
   ],
   "source": [
    "%timeit f6(1) #map con lambda"
   ]
  },
  {
   "cell_type": "markdown",
   "metadata": {},
   "source": [
    "## [Numba](https://towardsdatascience.com/speed-up-your-algorithms-part-2-numba-293e554c5cc1)"
   ]
  },
  {
   "cell_type": "code",
   "execution_count": 1,
   "metadata": {},
   "outputs": [],
   "source": [
    "from numba import njit"
   ]
  },
  {
   "cell_type": "code",
   "execution_count": 14,
   "metadata": {},
   "outputs": [],
   "source": [
    "@njit\n",
    "\n",
    "def ftn(x): #Función tradicional\n",
    "    y=(x**2)*m.cos(m.radians(x))\n",
    "    return y"
   ]
  },
  {
   "cell_type": "code",
   "execution_count": 15,
   "metadata": {},
   "outputs": [],
   "source": [
    "@njit\n",
    "\n",
    "def f32(a): #lista de comprension con funcion tradicional\n",
    "    img3=[ftn(i) for i in range(-1000,1001)]\n",
    "    return img3"
   ]
  },
  {
   "cell_type": "code",
   "execution_count": 17,
   "metadata": {},
   "outputs": [
    {
     "name": "stdout",
     "output_type": "stream",
     "text": [
      "164 µs ± 6.38 µs per loop (mean ± std. dev. of 7 runs, 10000 loops each)\n"
     ]
    }
   ],
   "source": [
    "%timeit f32(1) #Mucho más rapido!!"
   ]
  },
  {
   "cell_type": "markdown",
   "metadata": {},
   "source": [
    "$109\\mu s=0.109ms$ con un valor original de $1.7ms\\Rightarrow$ Numba a hecho a nuestra función 17 veces más rapida!"
   ]
  },
  {
   "cell_type": "markdown",
   "metadata": {},
   "source": [
    "## Ejericios"
   ]
  },
  {
   "cell_type": "markdown",
   "metadata": {},
   "source": [
    "1.- Hacer una calculadora que cálcule el producto punto, la norma y el ángulo entre dos vectores de n dimensiones"
   ]
  },
  {
   "cell_type": "code",
   "execution_count": 65,
   "metadata": {},
   "outputs": [],
   "source": [
    "def ov(u,v): #Para aplicar numba, los argumentos deben ser inmutables\n",
    "    if len(u)==len(v):\n",
    "        \n",
    "        s=[u[i]*v[i] for i in range(len(u))]\n",
    "        s=sum(s)\n",
    "        \n",
    "        nu=[u[i]**2 for i in range(len(u))]\n",
    "        nu=m.sqrt(sum(nu))\n",
    "        \n",
    "        nv=[v[i]**2 for i in range(len(u))]\n",
    "        nv=m.sqrt(sum(nv))\n",
    "        \n",
    "        ang=m.degrees(m.acos(s/(nv*nu)))\n",
    "        \n",
    "        #print(\"El producto punto entre u y v es: \",s)\n",
    "        #print(\"La norma de u es: \",nu)\n",
    "        #print(\"La norma de v es: \",nv)\n",
    "        #print(\"El ángulo entre u y v es: \",ang)\n",
    "        \n",
    "    else:\n",
    "        print(\"ERROR: Los vectores son de dimensiones distintas\")\n",
    "        \n",
    "    return s,nu,nv,ang\n",
    "        "
   ]
  },
  {
   "cell_type": "code",
   "execution_count": 24,
   "metadata": {},
   "outputs": [],
   "source": [
    "import random\n",
    "\n",
    "u = tuple(random.sample(range(0, 1000), 100))\n",
    "v = tuple([random.randrange(0, 1000, 1) for i in range(100)])"
   ]
  },
  {
   "cell_type": "markdown",
   "metadata": {},
   "source": [
    "### Breviario cultural:\n",
    "\n",
    "Supongamos que queremos tomar una muestra aleatoria de un conjunto de datos definido, j\n",
    "\n",
    "$j=['r','m','k','l','a','b','m','s']$\n",
    "\n",
    "Podemos utilizar: \n",
    "* random.choice(seq):\n",
    "    Return a random element from the non-empty sequence seq. If seq is empty, raises IndexError.\n",
    "\n",
    "* random.choices(population, weights=None, *, cum_weights=None, k=1)\n",
    "    Return a k sized list of elements chosen from the population with replacement. If the population is empty, raises IndexError.\n",
    "\n",
    "* random.sample(population, k)\n",
    "    Return a k length list of unique elements chosen from the population sequence or set. Used for random sampling without replacement."
   ]
  },
  {
   "cell_type": "code",
   "execution_count": 25,
   "metadata": {},
   "outputs": [
    {
     "name": "stdout",
     "output_type": "stream",
     "text": [
      "l\n",
      "['a', 'r', 's', 's']\n",
      "['m', 'm', 'k', 'r', 'b']\n"
     ]
    }
   ],
   "source": [
    "j=['r','m','k','l','a','b','m','s']\n",
    "print(random.choice(j))\n",
    "print(random.choices(j,k=4))\n",
    "print(random.sample(j,k=5))"
   ]
  },
  {
   "cell_type": "markdown",
   "metadata": {},
   "source": [
    "### Fin del breviario cultural, continuemos..."
   ]
  },
  {
   "cell_type": "code",
   "execution_count": 66,
   "metadata": {},
   "outputs": [
    {
     "data": {
      "text/plain": [
       "(1129, 35.4259791678367, 36.40054944640259, 28.89388441055508)"
      ]
     },
     "execution_count": 66,
     "metadata": {},
     "output_type": "execute_result"
    }
   ],
   "source": [
    "ov(u,v)"
   ]
  },
  {
   "cell_type": "code",
   "execution_count": 86,
   "metadata": {},
   "outputs": [
    {
     "name": "stdout",
     "output_type": "stream",
     "text": [
      "93.8 µs ± 302 ns per loop (mean ± std. dev. of 7 runs, 10000 loops each)\n"
     ]
    }
   ],
   "source": [
    "%timeit ov(u,v)"
   ]
  },
  {
   "cell_type": "code",
   "execution_count": 68,
   "metadata": {},
   "outputs": [],
   "source": [
    "@njit\n",
    "def ovN(u,v): #Para aplicar numba, los argumentos deben ser inmutables\n",
    "    if len(u)==len(v):\n",
    "        \n",
    "        s=[u[i]*v[i] for i in range(len(u))]\n",
    "        s0=0\n",
    "        for i in range(len(s)):\n",
    "            s0+=s[i]\n",
    "        \n",
    "        nu=[u[i]**2 for i in range(len(u))]\n",
    "        nu0=0\n",
    "        for i in range(len(nu)):\n",
    "            nu0+=nu[i]\n",
    "        Nu=m.sqrt(nu0)\n",
    "        \n",
    "        nv=[v[i]**2 for i in range(len(u))]\n",
    "        nv0=0\n",
    "        for i in range(len(nv)):\n",
    "            nv0+=nv[i]\n",
    "        Nv=m.sqrt(nv0)\n",
    "        \n",
    "        ang=m.degrees(m.acos(s0/(Nv*Nu)))\n",
    "        \n",
    "        #print(\"El producto punto entre u y v es: \",s)\n",
    "        #print(\"La norma de u es: \",nu)\n",
    "        #print(\"La norma de v es: \",nv)\n",
    "        #print(\"El ángulo entre u y v es: \",ang)\n",
    "        \n",
    "    else:\n",
    "        print(\"ERROR: Los vectores son de dimensiones distintas\")\n",
    "        \n",
    "    return s0,Nu,Nv,ang"
   ]
  },
  {
   "cell_type": "code",
   "execution_count": 87,
   "metadata": {},
   "outputs": [
    {
     "data": {
      "text/plain": [
       "(24082385, 5689.300747895122, 5428.677002732802, 38.763751740588226)"
      ]
     },
     "execution_count": 87,
     "metadata": {},
     "output_type": "execute_result"
    }
   ],
   "source": [
    "ovN(u,v)"
   ]
  },
  {
   "cell_type": "code",
   "execution_count": 88,
   "metadata": {},
   "outputs": [
    {
     "name": "stdout",
     "output_type": "stream",
     "text": [
      "27.9 µs ± 155 ns per loop (mean ± std. dev. of 7 runs, 10000 loops each)\n"
     ]
    }
   ],
   "source": [
    "%timeit ovN(u,v)"
   ]
  },
  {
   "cell_type": "markdown",
   "metadata": {},
   "source": [
    "2.- Crear una función que genere matrices $n$x$m$ con elementos aleatorios"
   ]
  },
  {
   "cell_type": "code",
   "execution_count": 96,
   "metadata": {},
   "outputs": [],
   "source": [
    "def gm(n,m):\n",
    "    l=[]\n",
    "    for i in range(n):\n",
    "            l.append(random.sample(range(0, 1000), m))\n",
    "    return tuple(l)  "
   ]
  },
  {
   "cell_type": "code",
   "execution_count": 97,
   "metadata": {},
   "outputs": [
    {
     "data": {
      "text/plain": [
       "([686, 0, 663, 1, 451],\n",
       " [540, 88, 331, 989, 616],\n",
       " [714, 53, 98, 908, 471],\n",
       " [780, 400, 363, 615, 655],\n",
       " [957, 934, 375, 806, 226])"
      ]
     },
     "execution_count": 97,
     "metadata": {},
     "output_type": "execute_result"
    }
   ],
   "source": [
    "gm(5,5)"
   ]
  },
  {
   "cell_type": "markdown",
   "metadata": {},
   "source": [
    "3.- Crear una función que calcule el producto de dos matrices de $n$x$m$\n",
    "\n",
    "<img src=\"mat.jpg\" style=\"width: 300px;\"/>"
   ]
  },
  {
   "cell_type": "code",
   "execution_count": 38,
   "metadata": {},
   "outputs": [
    {
     "data": {
      "text/plain": [
       "([1, 2], [3, 4])"
      ]
     },
     "execution_count": 38,
     "metadata": {},
     "output_type": "execute_result"
    }
   ],
   "source": [
    "A=([1,2],[3,4])\n",
    "B=([5,6],[7,8])\n",
    "A"
   ]
  },
  {
   "cell_type": "code",
   "execution_count": 3,
   "metadata": {},
   "outputs": [
    {
     "data": {
      "text/plain": [
       "2"
      ]
     },
     "execution_count": 3,
     "metadata": {},
     "output_type": "execute_result"
    }
   ],
   "source": [
    "len(A)"
   ]
  },
  {
   "cell_type": "code",
   "execution_count": 4,
   "metadata": {},
   "outputs": [
    {
     "data": {
      "text/plain": [
       "3"
      ]
     },
     "execution_count": 4,
     "metadata": {},
     "output_type": "execute_result"
    }
   ],
   "source": [
    "len(A[0])"
   ]
  },
  {
   "cell_type": "code",
   "execution_count": 71,
   "metadata": {},
   "outputs": [],
   "source": [
    "def pm(A,B):\n",
    "    \n",
    "    if len(A[0])==len(B):\n",
    "        res=[]\n",
    "        for k in range(len(B)): \n",
    "            t=[]\n",
    "            for i in range(len(B)):\n",
    "                n=[]  \n",
    "                for j in range(len(B)):\n",
    "                    n.append(A[k][j]*B[j][i])\n",
    "                #s=sum(m)\n",
    "                s=0\n",
    "                for p in range(len(n)):\n",
    "                    s+=n[p]\n",
    "\n",
    "                t.append(s)\n",
    "\n",
    "                #print(s)\n",
    "            res.append(t)\n",
    "                \n",
    "    \n",
    "    else:\n",
    "        print(\"ERROR: Las matrices no son conformables\")\n",
    "    \n",
    "    return res\n",
    "    "
   ]
  },
  {
   "cell_type": "code",
   "execution_count": 98,
   "metadata": {},
   "outputs": [],
   "source": [
    "A= gm(100,100)\n",
    "B= gm(100,100)"
   ]
  },
  {
   "cell_type": "code",
   "execution_count": 99,
   "metadata": {},
   "outputs": [
    {
     "name": "stdout",
     "output_type": "stream",
     "text": [
      "336 ms ± 17.2 ms per loop (mean ± std. dev. of 7 runs, 1 loop each)\n"
     ]
    }
   ],
   "source": [
    "%timeit pm(A,B)"
   ]
  },
  {
   "cell_type": "code",
   "execution_count": 100,
   "metadata": {},
   "outputs": [],
   "source": [
    "@njit\n",
    "def pmN(A,B):\n",
    "    \n",
    "    if len(A[0])==len(B):\n",
    "        res=[]\n",
    "        for k in range(len(B)): \n",
    "            t=[]\n",
    "            for i in range(len(B)):\n",
    "                n=[]  \n",
    "                for j in range(len(B)):\n",
    "                    n.append(A[k][j]*B[j][i])\n",
    "                #s=sum(m)\n",
    "                s=0\n",
    "                for p in range(len(n)):\n",
    "                    s+=n[p]\n",
    "\n",
    "                t.append(s)\n",
    "\n",
    "                #print(s)\n",
    "            res.append(t)\n",
    "                \n",
    "    \n",
    "    else:\n",
    "        print(\"ERROR: Las matrices no son conformables\")\n",
    "    \n",
    "    return res"
   ]
  },
  {
   "cell_type": "code",
   "execution_count": 101,
   "metadata": {},
   "outputs": [
    {
     "name": "stdout",
     "output_type": "stream",
     "text": [
      "131 ms ± 14.1 ms per loop (mean ± std. dev. of 7 runs, 1 loop each)\n"
     ]
    }
   ],
   "source": [
    "%timeit pmN(A,B)"
   ]
  },
  {
   "cell_type": "markdown",
   "metadata": {},
   "source": [
    "### Aquí termina la primer parte del curso!!\n",
    "\n",
    "Para este punto ya deberiamos ser expertos en indexar, operar, hacer bucles y funciones. En la siguiente parte del curso ocuparemos todo lo que hemos aprendido para resolver muchos problemas utilizando numpy, pandas, matplotlib, entre otras...\n",
    "\n",
    "<img src=\"bel.jpg\" style=\"width: 400px;\"/>"
   ]
  },
  {
   "cell_type": "markdown",
   "metadata": {},
   "source": [
    "## Manipulación de Archivos de Texto"
   ]
  },
  {
   "cell_type": "code",
   "execution_count": 1,
   "metadata": {},
   "outputs": [],
   "source": [
    "import requests"
   ]
  },
  {
   "cell_type": "code",
   "execution_count": 166,
   "metadata": {},
   "outputs": [
    {
     "data": {
      "text/plain": [
       "<Response [200]>"
      ]
     },
     "execution_count": 166,
     "metadata": {},
     "output_type": "execute_result"
    }
   ],
   "source": [
    "link = \"https://www.samaelgnosis.net/libros/txt/naves_cosmicas.txt\"\n",
    "f = requests.get(link)\n",
    "f"
   ]
  },
  {
   "cell_type": "code",
   "execution_count": 168,
   "metadata": {},
   "outputs": [
    {
     "data": {
      "text/plain": [
       "'NAVES C�SMICAS\\r\\n\\r\\nSamael Aun Weor\\r\\n--------------------------------------------------------------------------------\\r\\nInstituto Cultural Quetzalcoatl de Antropolog�a Psicoanal�tica, A.C.\\r\\nwww.samaelgnosis.net  y www.samaelgnosis.org\\r\\n\\r\\n\\r\\n\\r\\n\\r\\n\\r\\n�NDICE\\r\\n\\r\\nCAPITULO I       NAVES C�SMICAS.\\r\\nCAPITULO II      UN MEXICANO EN EL PLANETA VENUS.\\r\\nCAPITULO III     EL YO PLURALIZADO\\r\\nCAPITULO IV     CARTA ABIERTA\\t\\t \\r\\nCAPITULO I   \\r\\nNAVES C�SMICAS\\r\\n\\tFue all� por el a�o de 1950 cuando nosotros hablamos por vez'"
      ]
     },
     "execution_count": 168,
     "metadata": {},
     "output_type": "execute_result"
    }
   ],
   "source": [
    "f.text[:500]"
   ]
  },
  {
   "cell_type": "code",
   "execution_count": 169,
   "metadata": {},
   "outputs": [],
   "source": [
    "f.encoding='latin1'"
   ]
  },
  {
   "cell_type": "code",
   "execution_count": 170,
   "metadata": {},
   "outputs": [
    {
     "data": {
      "text/plain": [
       "'NAVES CÓSMICAS\\r\\n\\r\\nSamael Aun Weor\\r\\n--------------------------------------------------------------------------------\\r\\nInstituto Cultural Quetzalcoatl de Antropología Psicoanalítica, A.C.\\r\\nwww.samaelgnosis.net  y www.samaelgnosis.org\\r\\n\\r\\n\\r\\n\\r\\n\\r\\n\\r\\nÍNDICE\\r\\n\\r\\nCAPITULO I       NAVES CÓSMICAS.\\r\\nCAPITULO II      UN MEXICANO EN EL PLANETA VENUS.\\r\\nCAPITULO III     EL YO PLURALIZADO\\r\\nCAPITULO IV     CARTA ABIERTA\\t\\t \\r\\nCAPITULO I   \\r\\nNAVES CÓSMICAS\\r\\n\\tFue allá por el año de 1950 cuando nosotros hablamos por vez primera sobre los Discos Voladores. Por aquel año afirmamos enfáticamente que tales Discos Voladores son realmente Naves Cósmicas tripuladas por habitantes de otros planetas.\\r\\n        Por aquella época muchos se rieron de nuestras afirmaciones, pero hoy los acontecimientos nos han dado la razón. En los Estados Unidos existe un departamento científico dedicado únicamente a la investigación de estas Naves Cósmicas.\\r\\n        La ley de los accidentes incluye también a esas naves y varias han chocad'"
      ]
     },
     "execution_count": 170,
     "metadata": {},
     "output_type": "execute_result"
    }
   ],
   "source": [
    "txt=f.text\n",
    "txt[:1000]"
   ]
  },
  {
   "cell_type": "code",
   "execution_count": 27,
   "metadata": {},
   "outputs": [],
   "source": [
    "file=open('/Users/Raul/Desktop/file.txt','w')\n",
    "file.write(txt)\n",
    "file.close()"
   ]
  },
  {
   "cell_type": "code",
   "execution_count": 73,
   "metadata": {},
   "outputs": [
    {
     "name": "stdout",
     "output_type": "stream",
     "text": [
      "NAVES CÓSMICAS\n",
      "\n",
      "Samael Aun Weor\n",
      "--------------------------------------------------------------------------------\n",
      "Instituto Cultural Quetzalcoatl de Antropología Psicoanalítica, A.C.\n",
      "www.samaelgnosis.net  y www.samaelgnosis.org\n",
      "\n",
      "\n",
      "\n",
      "\n",
      "\n",
      "ÍNDICE\n",
      "\n",
      "CAPITULO I       NAVES CÓSMICAS.\n",
      "CAPITULO II      UN MEXICANO EN EL PLANETA VENUS.\n",
      "CAPITULO III     EL YO PLURALIZADO\n",
      "CAPITULO IV     CARTA ABIERTA\t\t \n",
      "CAPITULO I   \n",
      "NAVES CÓSMICAS\n",
      "\tFue allá por el año de 1950 cuando nosotros hablamos por vez primera sobre los Discos Voladores. Por aquel año afirmamos enfáticamente que tales Discos Voladores son realmente Naves Cósmicas tripuladas por habitantes de otros planetas.\n",
      "        Por aquella época muchos se rieron de nuestras afirmaciones, pero hoy los acontecimientos nos han dado la razón. En los Estados Unidos existe un departamento científico dedicado únicamente a la investigación de estas Naves Cósmicas.\n",
      "        La ley de los accidentes incluye también a esas naves y varias han chocado o han explotado vio\n"
     ]
    }
   ],
   "source": [
    "file=open('/Users/Raul/Desktop/file.txt','r')\n",
    "print(file.read()[:1000])\n",
    "file.close()"
   ]
  },
  {
   "cell_type": "code",
   "execution_count": 77,
   "metadata": {},
   "outputs": [
    {
     "data": {
      "text/plain": [
       "['NAVES CÓSMICAS\\n',\n",
       " '\\n',\n",
       " 'Samael Aun Weor\\n',\n",
       " '--------------------------------------------------------------------------------\\n',\n",
       " 'Instituto Cultural Quetzalcoatl de Antropología Psicoanalítica, A.C.\\n',\n",
       " 'www.samaelgnosis.net  y www.samaelgnosis.org\\n',\n",
       " '\\n',\n",
       " '\\n',\n",
       " '\\n',\n",
       " '\\n']"
      ]
     },
     "execution_count": 77,
     "metadata": {},
     "output_type": "execute_result"
    }
   ],
   "source": [
    "with open('/Users/Raul/Desktop/file.txt') as file:\n",
    "    dat=file.readlines()\n",
    "dat[:10]"
   ]
  },
  {
   "cell_type": "code",
   "execution_count": 65,
   "metadata": {},
   "outputs": [
    {
     "data": {
      "text/plain": [
       "59.0"
      ]
     },
     "execution_count": 65,
     "metadata": {},
     "output_type": "execute_result"
    }
   ],
   "source": [
    "len(dat)/3"
   ]
  },
  {
   "cell_type": "code",
   "execution_count": null,
   "metadata": {},
   "outputs": [],
   "source": [
    "    "
   ]
  },
  {
   "cell_type": "markdown",
   "metadata": {},
   "source": [
    "## GeoMagia"
   ]
  },
  {
   "cell_type": "code",
   "execution_count": 105,
   "metadata": {},
   "outputs": [],
   "source": [
    "with open('/Users/Raul/Desktop/puntosworld.csv',) as world:\n",
    "    dat=world.readlines()"
   ]
  },
  {
   "cell_type": "code",
   "execution_count": 106,
   "metadata": {},
   "outputs": [
    {
     "data": {
      "text/plain": [
       "[',ID_CONTINUO,TIPO,ID_LINEA,CONTINUIDAD,LONGITUD,LATITUD\\n',\n",
       " '0,1,PARALELO,1,1,-180,-90.0\\n',\n",
       " '1,2,PARALELO,1,2,-179,-90.0\\n',\n",
       " '2,3,PARALELO,1,3,-178,-90.0\\n',\n",
       " '3,4,PARALELO,1,4,-177,-90.0\\n',\n",
       " '4,5,PARALELO,1,5,-176,-90.0\\n',\n",
       " '5,6,PARALELO,1,6,-175,-90.0\\n',\n",
       " '6,7,PARALELO,1,7,-174,-90.0\\n',\n",
       " '7,8,PARALELO,1,8,-173,-90.0\\n',\n",
       " '8,9,PARALELO,1,9,-172,-90.0\\n']"
      ]
     },
     "execution_count": 106,
     "metadata": {},
     "output_type": "execute_result"
    }
   ],
   "source": [
    "dat[:10]"
   ]
  },
  {
   "cell_type": "code",
   "execution_count": 107,
   "metadata": {},
   "outputs": [
    {
     "data": {
      "text/plain": [
       "[['',\n",
       "  'ID_CONTINUO',\n",
       "  'TIPO',\n",
       "  'ID_LINEA',\n",
       "  'CONTINUIDAD',\n",
       "  'LONGITUD',\n",
       "  'LATITUD\\n'],\n",
       " ['0', '1', 'PARALELO', '1', '1', '-180', '-90.0\\n'],\n",
       " ['1', '2', 'PARALELO', '1', '2', '-179', '-90.0\\n'],\n",
       " ['2', '3', 'PARALELO', '1', '3', '-178', '-90.0\\n'],\n",
       " ['3', '4', 'PARALELO', '1', '4', '-177', '-90.0\\n'],\n",
       " ['4', '5', 'PARALELO', '1', '5', '-176', '-90.0\\n'],\n",
       " ['5', '6', 'PARALELO', '1', '6', '-175', '-90.0\\n'],\n",
       " ['6', '7', 'PARALELO', '1', '7', '-174', '-90.0\\n'],\n",
       " ['7', '8', 'PARALELO', '1', '8', '-173', '-90.0\\n'],\n",
       " ['8', '9', 'PARALELO', '1', '9', '-172', '-90.0\\n']]"
      ]
     },
     "execution_count": 107,
     "metadata": {},
     "output_type": "execute_result"
    }
   ],
   "source": [
    "cols=[i.split(',') for i in dat]\n",
    "cols[:10]"
   ]
  },
  {
   "cell_type": "code",
   "execution_count": 123,
   "metadata": {},
   "outputs": [],
   "source": [
    "lon=[float(i[-2]) for i in cols[1:]]"
   ]
  },
  {
   "cell_type": "code",
   "execution_count": 124,
   "metadata": {},
   "outputs": [],
   "source": [
    "lat=[float(i[-1][:-2]) for i in cols[1:]]"
   ]
  },
  {
   "cell_type": "code",
   "execution_count": 155,
   "metadata": {},
   "outputs": [],
   "source": [
    "import matplotlib.pyplot as plt\n",
    "\n",
    "plt.style.use(\"dark_background\")"
   ]
  },
  {
   "cell_type": "code",
   "execution_count": 161,
   "metadata": {},
   "outputs": [
    {
     "data": {
      "image/png": "[encoded data removed]",
      "text/plain": [
       "<Figure size 800x400 with 1 Axes>"
      ]
     },
     "metadata": {},
     "output_type": "display_data"
    }
   ],
   "source": [
    "plt.figure(figsize=(10,5),dpi=80)\n",
    "plt.scatter(lon,lat,s=.1,c='w');"
   ]
  },
  {
   "cell_type": "markdown",
   "metadata": {},
   "source": [
    "Para hacer una proyección de __Bonne__ en el caso esférico se necesitan las siguientes ecuaciones:\n",
    "\n",
    "<center>$x=\\rho\\sin{E}$<center>\n",
    "<center>$y=R\\cot{\\phi_0}-\\rho\\cos{E}$<center>\n",
    "\n",
    "$Donde:$\n",
    "\n",
    "<center>$\\rho=R\\left(\\cot{\\phi_0}+\\phi_0-\\phi\\right)$<center>\n",
    "    \n",
    "    \n",
    "<center>$E=\\frac{R(\\lambda-\\lambda_0)(\\cos{\\phi})}{\\rho}$<center>\n",
    "    \n",
    "\n",
    "Con $R=6371km$ y  $(\\phi_0,\\lambda_0)$  definen el punto de tangencia"
   ]
  },
  {
   "cell_type": "code",
   "execution_count": 125,
   "metadata": {},
   "outputs": [],
   "source": [
    "import math as m"
   ]
  },
  {
   "cell_type": "code",
   "execution_count": 147,
   "metadata": {},
   "outputs": [],
   "source": [
    "def bonne(lon,lat,phi,lamb):\n",
    "    \n",
    "    R=6371\n",
    "    \n",
    "    lonr=[m.radians(i) for i in lon]\n",
    "    latr=[m.radians(i) for i in lat]\n",
    "    pr=m.radians(phi)\n",
    "    lr=m.radians(lamb)\n",
    "    \n",
    "    rho=[R*(1/(m.tan(pr))+pr-i) for i in latr]\n",
    "    E=[(R*(i-lr)*m.cos(k))/j for i,j,k in zip(lonr,rho,latr)]\n",
    "    \n",
    "    x=[i*m.sin(j) for i,j in zip(rho,E)]\n",
    "    y=[R*(1/(m.tan(pr)))-i*(m.cos(j)) for i,j in zip(rho,E)]\n",
    "    \n",
    "    return x,y"
   ]
  },
  {
   "cell_type": "code",
   "execution_count": 163,
   "metadata": {},
   "outputs": [
    {
     "data": {
      "image/png": "[encoded data removed]",
      "text/plain": [
       "<Figure size 800x400 with 1 Axes>"
      ]
     },
     "metadata": {},
     "output_type": "display_data"
    }
   ],
   "source": [
    "r=bonne(lon,lat,20,-100)\n",
    "plt.figure(figsize=(10,5),dpi=80)\n",
    "plt.scatter(r[0],r[1],s=.1,c='w');"
   ]
  },
  {
   "cell_type": "code",
   "execution_count": 164,
   "metadata": {},
   "outputs": [
    {
     "data": {
      "image/png": "[encoded data removed]",
      "text/plain": [
       "<Figure size 800x400 with 1 Axes>"
      ]
     },
     "metadata": {},
     "output_type": "display_data"
    }
   ],
   "source": [
    "r=bonne(lon,lat,89,0)\n",
    "plt.figure(figsize=(10,5),dpi=80)\n",
    "plt.scatter(r[0],r[1],s=.1,c='w');"
   ]
  },
  {
   "cell_type": "markdown",
   "metadata": {},
   "source": [
    "## Mini Introducción a PANDAS"
   ]
  },
  {
   "cell_type": "code",
   "execution_count": null,
   "metadata": {},
   "outputs": [],
   "source": [
    "import pandas as pd"
   ]
  },
  {
   "cell_type": "code",
   "execution_count": 101,
   "metadata": {},
   "outputs": [
    {
     "data": {
      "text/html": [
       "<div>\n",
       "<style scoped>\n",
       "    .dataframe tbody tr th:only-of-type {\n",
       "        vertical-align: middle;\n",
       "    }\n",
       "\n",
       "    .dataframe tbody tr th {\n",
       "        vertical-align: top;\n",
       "    }\n",
       "\n",
       "    .dataframe thead th {\n",
       "        text-align: right;\n",
       "    }\n",
       "</style>\n",
       "<table border=\"1\" class=\"dataframe\">\n",
       "  <thead>\n",
       "    <tr style=\"text-align: right;\">\n",
       "      <th></th>\n",
       "      <th>Unnamed: 0</th>\n",
       "      <th>ID_CONTINUO</th>\n",
       "      <th>TIPO</th>\n",
       "      <th>ID_LINEA</th>\n",
       "      <th>CONTINUIDAD</th>\n",
       "      <th>LONGITUD</th>\n",
       "      <th>LATITUD</th>\n",
       "    </tr>\n",
       "  </thead>\n",
       "  <tbody>\n",
       "    <tr>\n",
       "      <th>0</th>\n",
       "      <td>0</td>\n",
       "      <td>1</td>\n",
       "      <td>PARALELO</td>\n",
       "      <td>1</td>\n",
       "      <td>1</td>\n",
       "      <td>-180.0</td>\n",
       "      <td>-90.0</td>\n",
       "    </tr>\n",
       "    <tr>\n",
       "      <th>1</th>\n",
       "      <td>1</td>\n",
       "      <td>2</td>\n",
       "      <td>PARALELO</td>\n",
       "      <td>1</td>\n",
       "      <td>2</td>\n",
       "      <td>-179.0</td>\n",
       "      <td>-90.0</td>\n",
       "    </tr>\n",
       "    <tr>\n",
       "      <th>2</th>\n",
       "      <td>2</td>\n",
       "      <td>3</td>\n",
       "      <td>PARALELO</td>\n",
       "      <td>1</td>\n",
       "      <td>3</td>\n",
       "      <td>-178.0</td>\n",
       "      <td>-90.0</td>\n",
       "    </tr>\n",
       "    <tr>\n",
       "      <th>3</th>\n",
       "      <td>3</td>\n",
       "      <td>4</td>\n",
       "      <td>PARALELO</td>\n",
       "      <td>1</td>\n",
       "      <td>4</td>\n",
       "      <td>-177.0</td>\n",
       "      <td>-90.0</td>\n",
       "    </tr>\n",
       "    <tr>\n",
       "      <th>4</th>\n",
       "      <td>4</td>\n",
       "      <td>5</td>\n",
       "      <td>PARALELO</td>\n",
       "      <td>1</td>\n",
       "      <td>5</td>\n",
       "      <td>-176.0</td>\n",
       "      <td>-90.0</td>\n",
       "    </tr>\n",
       "  </tbody>\n",
       "</table>\n",
       "</div>"
      ],
      "text/plain": [
       "   Unnamed: 0  ID_CONTINUO      TIPO  ID_LINEA  CONTINUIDAD  LONGITUD  LATITUD\n",
       "0           0            1  PARALELO         1            1    -180.0    -90.0\n",
       "1           1            2  PARALELO         1            2    -179.0    -90.0\n",
       "2           2            3  PARALELO         1            3    -178.0    -90.0\n",
       "3           3            4  PARALELO         1            4    -177.0    -90.0\n",
       "4           4            5  PARALELO         1            5    -176.0    -90.0"
      ]
     },
     "execution_count": 101,
     "metadata": {},
     "output_type": "execute_result"
    }
   ],
   "source": [
    "df=pd.read_csv('/Users/Raul/Desktop/puntosworld.csv')\n",
    "df.head()"
   ]
  },
  {
   "cell_type": "code",
   "execution_count": 102,
   "metadata": {},
   "outputs": [
    {
     "name": "stdout",
     "output_type": "stream",
     "text": [
      "<class 'pandas.core.frame.DataFrame'>\n",
      "RangeIndex: 16978 entries, 0 to 16977\n",
      "Data columns (total 7 columns):\n",
      " #   Column       Non-Null Count  Dtype  \n",
      "---  ------       --------------  -----  \n",
      " 0   Unnamed: 0   16978 non-null  int64  \n",
      " 1   ID_CONTINUO  16978 non-null  int64  \n",
      " 2   TIPO         16978 non-null  object \n",
      " 3   ID_LINEA     16978 non-null  int64  \n",
      " 4   CONTINUIDAD  16978 non-null  int64  \n",
      " 5   LONGITUD     16978 non-null  float64\n",
      " 6   LATITUD      16978 non-null  float64\n",
      "dtypes: float64(2), int64(4), object(1)\n",
      "memory usage: 928.6+ KB\n"
     ]
    }
   ],
   "source": [
    "df.info()"
   ]
  },
  {
   "cell_type": "code",
   "execution_count": 104,
   "metadata": {},
   "outputs": [
    {
     "data": {
      "text/plain": [
       "<matplotlib.collections.PathCollection at 0x11d3fde10>"
      ]
     },
     "execution_count": 104,
     "metadata": {},
     "output_type": "execute_result"
    },
    {
     "data": {
      "image/png": "[encoded data removed]",
      "text/plain": [
       "<Figure size 432x288 with 1 Axes>"
      ]
     },
     "metadata": {
      "needs_background": "light"
     },
     "output_type": "display_data"
    }
   ],
   "source": [
    "plt.scatter(df.LONGITUD,df.LATITUD,s=.3)"
   ]
  }
 ],
 "metadata": {
  "kernelspec": {
   "display_name": "Python 3",
   "language": "python",
   "name": "python3"
  },
  "language_info": {
   "codemirror_mode": {
    "name": "ipython",
    "version": 3
   },
   "file_extension": ".py",
   "mimetype": "text/x-python",
   "name": "python",
   "nbconvert_exporter": "python",
   "pygments_lexer": "ipython3",
   "version": "3.7.7"
  }
 },
 "nbformat": 4,
 "nbformat_minor": 4
}
